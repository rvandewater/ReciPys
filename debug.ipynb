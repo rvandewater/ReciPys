{
 "cells": [
  {
   "cell_type": "code",
   "execution_count": 38,
   "metadata": {
    "collapsed": true
   },
   "outputs": [],
   "source": [
    "import polars as pl\n",
    "import numpy as np\n",
    "from datetime import timedelta\n",
    "rand_state = np.random.RandomState(42)\n",
    "interval = timedelta(hours=1)\n"
   ]
  },
  {
   "cell_type": "code",
   "execution_count": 28,
   "outputs": [
    {
     "data": {
      "text/plain": "array([0, 1, 2, 3, 4, 5])"
     },
     "execution_count": 28,
     "metadata": {},
     "output_type": "execute_result"
    }
   ],
   "source": [
    "np.arange(0,6)"
   ],
   "metadata": {
    "collapsed": false
   }
  },
  {
   "cell_type": "code",
   "execution_count": 35,
   "outputs": [],
   "source": [
    "interval = pl.Time(hours=1)\n"
   ],
   "metadata": {
    "collapsed": false
   }
  },
  {
   "cell_type": "code",
   "execution_count": 36,
   "outputs": [
    {
     "data": {
      "text/plain": "<Time at 0x242e94af760>"
     },
     "execution_count": 36,
     "metadata": {},
     "output_type": "execute_result"
    }
   ],
   "source": [
    "interval"
   ],
   "metadata": {
    "collapsed": false
   }
  },
  {
   "cell_type": "code",
   "execution_count": 39,
   "outputs": [],
   "source": [
    "test = (np.arange(0,6) * interval)"
   ],
   "metadata": {
    "collapsed": false
   }
  },
  {
   "cell_type": "code",
   "execution_count": 40,
   "outputs": [
    {
     "name": "stdout",
     "output_type": "stream",
     "text": [
      "[datetime.timedelta(0) datetime.timedelta(seconds=3600)\n",
      " datetime.timedelta(seconds=7200) datetime.timedelta(seconds=10800)\n",
      " datetime.timedelta(seconds=14400) datetime.timedelta(seconds=18000)]\n"
     ]
    }
   ],
   "source": [
    "print(test)"
   ],
   "metadata": {
    "collapsed": false
   }
  },
  {
   "cell_type": "code",
   "execution_count": 18,
   "outputs": [
    {
     "ename": "ValueError",
     "evalue": "zero-dimensional arrays cannot be concatenated",
     "output_type": "error",
     "traceback": [
      "\u001B[1;31m---------------------------------------------------------------------------\u001B[0m",
      "\u001B[1;31mValueError\u001B[0m                                Traceback (most recent call last)",
      "Cell \u001B[1;32mIn[18], line 1\u001B[0m\n\u001B[1;32m----> 1\u001B[0m \u001B[43mnp\u001B[49m\u001B[38;5;241;43m.\u001B[39;49m\u001B[43mconcatenate\u001B[49m\u001B[43m(\u001B[49m\u001B[43m[\u001B[49m\u001B[43m(\u001B[49m\u001B[43mnp\u001B[49m\u001B[38;5;241;43m.\u001B[39;49m\u001B[43marange\u001B[49m\u001B[43m(\u001B[49m\u001B[38;5;241;43m0\u001B[39;49m\u001B[43m,\u001B[49m\u001B[38;5;241;43m6\u001B[39;49m\u001B[43m)\u001B[49m\u001B[43m \u001B[49m\u001B[38;5;241;43m*\u001B[39;49m\u001B[43m \u001B[49m\u001B[43minterval\u001B[49m\u001B[43m)\u001B[49m\u001B[43m,\u001B[49m\u001B[43m \u001B[49m\u001B[43m(\u001B[49m\u001B[43mnp\u001B[49m\u001B[38;5;241;43m.\u001B[39;49m\u001B[43marange\u001B[49m\u001B[43m(\u001B[49m\u001B[38;5;241;43m0\u001B[39;49m\u001B[43m,\u001B[49m\u001B[38;5;241;43m4\u001B[39;49m\u001B[43m)\u001B[49m\u001B[43m \u001B[49m\u001B[38;5;241;43m*\u001B[39;49m\u001B[43m \u001B[49m\u001B[43minterval\u001B[49m\u001B[43m)\u001B[49m\u001B[43m]\u001B[49m\u001B[43m)\u001B[49m\n",
      "File \u001B[1;32m<__array_function__ internals>:200\u001B[0m, in \u001B[0;36mconcatenate\u001B[1;34m(*args, **kwargs)\u001B[0m\n",
      "\u001B[1;31mValueError\u001B[0m: zero-dimensional arrays cannot be concatenated"
     ]
    }
   ],
   "source": [
    "np.concatenate([(np.arange(0,6) * interval), (np.arange(0,4) * interval)])"
   ],
   "metadata": {
    "collapsed": false
   }
  },
  {
   "cell_type": "code",
   "execution_count": 15,
   "outputs": [
    {
     "ename": "ValueError",
     "evalue": "zero-dimensional arrays cannot be concatenated",
     "output_type": "error",
     "traceback": [
      "\u001B[1;31m---------------------------------------------------------------------------\u001B[0m",
      "\u001B[1;31mValueError\u001B[0m                                Traceback (most recent call last)",
      "Cell \u001B[1;32mIn[15], line 4\u001B[0m\n\u001B[0;32m      1\u001B[0m df \u001B[38;5;241m=\u001B[39m pl\u001B[38;5;241m.\u001B[39mDataFrame(\n\u001B[0;32m      2\u001B[0m         {\n\u001B[0;32m      3\u001B[0m             \u001B[38;5;124m\"\u001B[39m\u001B[38;5;124mid\u001B[39m\u001B[38;5;124m\"\u001B[39m: [\u001B[38;5;241m1\u001B[39m] \u001B[38;5;241m*\u001B[39m \u001B[38;5;241m6\u001B[39m \u001B[38;5;241m+\u001B[39m [\u001B[38;5;241m2\u001B[39m] \u001B[38;5;241m*\u001B[39m \u001B[38;5;241m4\u001B[39m,\n\u001B[1;32m----> 4\u001B[0m             \u001B[38;5;124m\"\u001B[39m\u001B[38;5;124mtime\u001B[39m\u001B[38;5;124m\"\u001B[39m: \u001B[43mnp\u001B[49m\u001B[38;5;241;43m.\u001B[39;49m\u001B[43mconcatenate\u001B[49m\u001B[43m(\u001B[49m\u001B[43m[\u001B[49m\u001B[43m(\u001B[49m\u001B[43mnp\u001B[49m\u001B[38;5;241;43m.\u001B[39;49m\u001B[43marange\u001B[49m\u001B[43m(\u001B[49m\u001B[38;5;241;43m0\u001B[39;49m\u001B[43m,\u001B[49m\u001B[38;5;241;43m6\u001B[39;49m\u001B[43m)\u001B[49m\u001B[43m \u001B[49m\u001B[38;5;241;43m*\u001B[39;49m\u001B[43m \u001B[49m\u001B[43minterval\u001B[49m\u001B[43m)\u001B[49m\u001B[43m,\u001B[49m\u001B[43m \u001B[49m\u001B[43m(\u001B[49m\u001B[43mnp\u001B[49m\u001B[38;5;241;43m.\u001B[39;49m\u001B[43marange\u001B[49m\u001B[43m(\u001B[49m\u001B[38;5;241;43m0\u001B[39;49m\u001B[43m,\u001B[49m\u001B[38;5;241;43m4\u001B[39;49m\u001B[43m)\u001B[49m\u001B[43m \u001B[49m\u001B[38;5;241;43m*\u001B[39;49m\u001B[43m \u001B[49m\u001B[43minterval\u001B[49m\u001B[43m)\u001B[49m\u001B[43m]\u001B[49m\u001B[43m)\u001B[49m,\n\u001B[0;32m      5\u001B[0m             \u001B[38;5;66;03m# \"time\": timedelta(hours=range(10)),\u001B[39;00m\n\u001B[0;32m      6\u001B[0m             \u001B[38;5;124m\"\u001B[39m\u001B[38;5;124my\u001B[39m\u001B[38;5;124m\"\u001B[39m: rand_state\u001B[38;5;241m.\u001B[39mnormal(size\u001B[38;5;241m=\u001B[39m(\u001B[38;5;241m10\u001B[39m,)),\n\u001B[0;32m      7\u001B[0m             \u001B[38;5;124m\"\u001B[39m\u001B[38;5;124mx1\u001B[39m\u001B[38;5;124m\"\u001B[39m: rand_state\u001B[38;5;241m.\u001B[39mnormal(loc\u001B[38;5;241m=\u001B[39m\u001B[38;5;241m10\u001B[39m, scale\u001B[38;5;241m=\u001B[39m\u001B[38;5;241m5\u001B[39m, size\u001B[38;5;241m=\u001B[39m(\u001B[38;5;241m10\u001B[39m,)),\n\u001B[0;32m      8\u001B[0m             \u001B[38;5;124m\"\u001B[39m\u001B[38;5;124mx2\u001B[39m\u001B[38;5;124m\"\u001B[39m: rand_state\u001B[38;5;241m.\u001B[39mbinomial(n\u001B[38;5;241m=\u001B[39m\u001B[38;5;241m1\u001B[39m, p\u001B[38;5;241m=\u001B[39m\u001B[38;5;241m0.3\u001B[39m, size\u001B[38;5;241m=\u001B[39m(\u001B[38;5;241m10\u001B[39m,)),\n\u001B[0;32m      9\u001B[0m             \u001B[38;5;124m\"\u001B[39m\u001B[38;5;124mx3\u001B[39m\u001B[38;5;124m\"\u001B[39m: pl\u001B[38;5;241m.\u001B[39mSeries([\u001B[38;5;124m\"\u001B[39m\u001B[38;5;124ma\u001B[39m\u001B[38;5;124m\"\u001B[39m, \u001B[38;5;124m\"\u001B[39m\u001B[38;5;124mb\u001B[39m\u001B[38;5;124m\"\u001B[39m, \u001B[38;5;124m\"\u001B[39m\u001B[38;5;124mc\u001B[39m\u001B[38;5;124m\"\u001B[39m, \u001B[38;5;124m\"\u001B[39m\u001B[38;5;124ma\u001B[39m\u001B[38;5;124m\"\u001B[39m, \u001B[38;5;124m\"\u001B[39m\u001B[38;5;124mc\u001B[39m\u001B[38;5;124m\"\u001B[39m, \u001B[38;5;124m\"\u001B[39m\u001B[38;5;124mb\u001B[39m\u001B[38;5;124m\"\u001B[39m, \u001B[38;5;124m\"\u001B[39m\u001B[38;5;124mc\u001B[39m\u001B[38;5;124m\"\u001B[39m, \u001B[38;5;124m\"\u001B[39m\u001B[38;5;124ma\u001B[39m\u001B[38;5;124m\"\u001B[39m, \u001B[38;5;124m\"\u001B[39m\u001B[38;5;124mb\u001B[39m\u001B[38;5;124m\"\u001B[39m, \u001B[38;5;124m\"\u001B[39m\u001B[38;5;124mc\u001B[39m\u001B[38;5;124m\"\u001B[39m]),\n\u001B[0;32m     10\u001B[0m             \u001B[38;5;124m\"\u001B[39m\u001B[38;5;124mx4\u001B[39m\u001B[38;5;124m\"\u001B[39m: pl\u001B[38;5;241m.\u001B[39mSeries([\u001B[38;5;124m\"\u001B[39m\u001B[38;5;124mx\u001B[39m\u001B[38;5;124m\"\u001B[39m, \u001B[38;5;124m\"\u001B[39m\u001B[38;5;124my\u001B[39m\u001B[38;5;124m\"\u001B[39m, \u001B[38;5;124m\"\u001B[39m\u001B[38;5;124my\u001B[39m\u001B[38;5;124m\"\u001B[39m, \u001B[38;5;124m\"\u001B[39m\u001B[38;5;124mx\u001B[39m\u001B[38;5;124m\"\u001B[39m, \u001B[38;5;124m\"\u001B[39m\u001B[38;5;124my\u001B[39m\u001B[38;5;124m\"\u001B[39m, \u001B[38;5;124m\"\u001B[39m\u001B[38;5;124my\u001B[39m\u001B[38;5;124m\"\u001B[39m, \u001B[38;5;124m\"\u001B[39m\u001B[38;5;124mx\u001B[39m\u001B[38;5;124m\"\u001B[39m, \u001B[38;5;124m\"\u001B[39m\u001B[38;5;124mx\u001B[39m\u001B[38;5;124m\"\u001B[39m, \u001B[38;5;124m\"\u001B[39m\u001B[38;5;124my\u001B[39m\u001B[38;5;124m\"\u001B[39m, \u001B[38;5;124m\"\u001B[39m\u001B[38;5;124mx\u001B[39m\u001B[38;5;124m\"\u001B[39m]), \u001B[38;5;66;03m#, dtype=\"category\"\u001B[39;00m\n\u001B[0;32m     11\u001B[0m         }\n\u001B[0;32m     12\u001B[0m     )\n",
      "File \u001B[1;32m<__array_function__ internals>:200\u001B[0m, in \u001B[0;36mconcatenate\u001B[1;34m(*args, **kwargs)\u001B[0m\n",
      "\u001B[1;31mValueError\u001B[0m: zero-dimensional arrays cannot be concatenated"
     ]
    }
   ],
   "source": [
    "df = pl.DataFrame(\n",
    "        {\n",
    "            \"id\": [1] * 6 + [2] * 4,\n",
    "            \"time\": pernl.sp.concatenate([(np.arange(0,6) * interval), (np.arange(0,4) * interval)]),\n",
    "            # \"time\": timedelta(hours=range(10)),\n",
    "            \"y\": rand_state.normal(size=(10,)),\n",
    "            \"x1\": rand_state.normal(loc=10, scale=5, size=(10,)),\n",
    "            \"x2\": rand_state.binomial(n=1, p=0.3, size=(10,)),\n",
    "            \"x3\": pl.Series([\"a\", \"b\", \"c\", \"a\", \"c\", \"b\", \"c\", \"a\", \"b\", \"c\"]),\n",
    "            \"x4\": pl.Series([\"x\", \"y\", \"y\", \"x\", \"y\", \"y\", \"x\", \"x\", \"y\", \"x\"]), #, dtype=\"category\"\n",
    "        }\n",
    "    )"
   ],
   "metadata": {
    "collapsed": false
   }
  },
  {
   "cell_type": "code",
   "execution_count": 12,
   "outputs": [
    {
     "name": "stdout",
     "output_type": "stream",
     "text": [
      "shape: (10, 7)\n",
      "┌─────┬─────────┬───────────┬───────────┬─────┬─────┬─────┐\n",
      "│ id  ┆ time    ┆ y         ┆ x1        ┆ x2  ┆ x3  ┆ x4  │\n",
      "│ --- ┆ ---     ┆ ---       ┆ ---       ┆ --- ┆ --- ┆ --- │\n",
      "│ i64 ┆ object  ┆ f64       ┆ f64       ┆ i32 ┆ str ┆ str │\n",
      "╞═════╪═════════╪═══════════╪═══════════╪═════╪═════╪═════╡\n",
      "│ 1   ┆ 0:00:00 ┆ 0.496714  ┆ 7.682912  ┆ 0   ┆ a   ┆ x   │\n",
      "│ 1   ┆ 1:00:00 ┆ -0.138264 ┆ 7.671351  ┆ 1   ┆ b   ┆ y   │\n",
      "│ 1   ┆ 2:00:00 ┆ 0.647689  ┆ 11.209811 ┆ 0   ┆ c   ┆ y   │\n",
      "│ 1   ┆ 3:00:00 ┆ 1.52303   ┆ 0.433599  ┆ 0   ┆ a   ┆ x   │\n",
      "│ …   ┆ …       ┆ …         ┆ …         ┆ …   ┆ …   ┆ …   │\n",
      "│ 2   ┆ 0:00:00 ┆ 1.579213  ┆ 4.935844  ┆ 0   ┆ c   ┆ x   │\n",
      "│ 2   ┆ 1:00:00 ┆ 0.767435  ┆ 11.571237 ┆ 0   ┆ a   ┆ x   │\n",
      "│ 2   ┆ 2:00:00 ┆ -0.469474 ┆ 5.45988   ┆ 0   ┆ b   ┆ y   │\n",
      "│ 2   ┆ 3:00:00 ┆ 0.54256   ┆ 2.938481  ┆ 1   ┆ c   ┆ x   │\n",
      "└─────┴─────────┴───────────┴───────────┴─────┴─────┴─────┘\n"
     ]
    }
   ],
   "source": [
    "print(df)"
   ],
   "metadata": {
    "collapsed": false
   }
  },
  {
   "cell_type": "code",
   "execution_count": 13,
   "outputs": [
    {
     "name": "stdout",
     "output_type": "stream",
     "text": [
      "   id                        time         y         x1  x2 x3 x4\n",
      "0   1  b'\\xb0z~\\xe7B\\x02\\x00\\x00'  0.496714   7.682912   0  a  x\n",
      "1   1  b'\\xc0m~\\xe7B\\x02\\x00\\x00' -0.138264   7.671351   1  b  y\n",
      "2   1  b'\\x10i~\\xe7B\\x02\\x00\\x00'  0.647689  11.209811   0  c  y\n",
      "3   1  b'\\x10u~\\xe7B\\x02\\x00\\x00'  1.523030   0.433599   0  a  x\n",
      "4   1     b' b~\\xe7B\\x02\\x00\\x00' -0.234153   1.375411   0  c  y\n",
      "5   1  b'\\xa0o~\\xe7B\\x02\\x00\\x00' -0.234137   7.188562   0  b  y\n",
      "6   2  b'\\xd0`~\\xe7B\\x02\\x00\\x00'  1.579213   4.935844   0  c  x\n",
      "7   2  b'\\x80_~\\xe7B\\x02\\x00\\x00'  0.767435  11.571237   0  a  x\n",
      "8   2     b'po~\\xe7B\\x02\\x00\\x00' -0.469474   5.459880   0  b  y\n",
      "9   2  b'\\xe0z~\\xe7B\\x02\\x00\\x00'  0.542560   2.938481   1  c  x\n"
     ]
    }
   ],
   "source": [
    "print(df.to_pandas())"
   ],
   "metadata": {
    "collapsed": false
   }
  },
  {
   "cell_type": "code",
   "execution_count": 22,
   "outputs": [],
   "source": [
    "timerange = pl.time_range(0, 6)"
   ],
   "metadata": {
    "collapsed": false
   }
  },
  {
   "cell_type": "code",
   "execution_count": 24,
   "outputs": [
    {
     "name": "stdout",
     "output_type": "stream",
     "text": [
      "0.time_range([6])\n"
     ]
    }
   ],
   "source": [
    "print(timerange)"
   ],
   "metadata": {
    "collapsed": false
   }
  },
  {
   "cell_type": "code",
   "execution_count": 49,
   "outputs": [],
   "source": [
    "interval = timedelta(hours=1)"
   ],
   "metadata": {
    "collapsed": false
   }
  },
  {
   "cell_type": "code",
   "execution_count": 50,
   "outputs": [
    {
     "ename": "ComputeError",
     "evalue": "cannot cast 'Object' type",
     "output_type": "error",
     "traceback": [
      "\u001B[1;31m---------------------------------------------------------------------------\u001B[0m",
      "\u001B[1;31mComputeError\u001B[0m                              Traceback (most recent call last)",
      "Cell \u001B[1;32mIn[50], line 1\u001B[0m\n\u001B[1;32m----> 1\u001B[0m \u001B[43mpl\u001B[49m\u001B[38;5;241;43m.\u001B[39;49m\u001B[43mSeries\u001B[49m\u001B[43m(\u001B[49m\u001B[43mnp\u001B[49m\u001B[38;5;241;43m.\u001B[39;49m\u001B[43mconcatenate\u001B[49m\u001B[43m(\u001B[49m\u001B[43m[\u001B[49m\u001B[43m(\u001B[49m\u001B[43mnp\u001B[49m\u001B[38;5;241;43m.\u001B[39;49m\u001B[43marange\u001B[49m\u001B[43m(\u001B[49m\u001B[38;5;241;43m0\u001B[39;49m\u001B[43m,\u001B[49m\u001B[38;5;241;43m6\u001B[39;49m\u001B[43m)\u001B[49m\u001B[43m \u001B[49m\u001B[38;5;241;43m*\u001B[39;49m\u001B[43m \u001B[49m\u001B[43minterval\u001B[49m\u001B[43m)\u001B[49m\u001B[43m,\u001B[49m\u001B[43m \u001B[49m\u001B[43m(\u001B[49m\u001B[43mnp\u001B[49m\u001B[38;5;241;43m.\u001B[39;49m\u001B[43marange\u001B[49m\u001B[43m(\u001B[49m\u001B[38;5;241;43m0\u001B[39;49m\u001B[43m,\u001B[49m\u001B[38;5;241;43m4\u001B[39;49m\u001B[43m)\u001B[49m\u001B[43m \u001B[49m\u001B[38;5;241;43m*\u001B[39;49m\u001B[43m \u001B[49m\u001B[43minterval\u001B[49m\u001B[43m)\u001B[49m\u001B[43m]\u001B[49m\u001B[43m)\u001B[49m\u001B[43m,\u001B[49m\u001B[43mdtype\u001B[49m\u001B[38;5;241;43m=\u001B[39;49m\u001B[43mtimedelta\u001B[49m\u001B[43m)\u001B[49m\n",
      "File \u001B[1;32m~\\miniconda\\envs\\yaib\\lib\\site-packages\\polars\\series\\series.py:290\u001B[0m, in \u001B[0;36mSeries.__init__\u001B[1;34m(self, name, values, dtype, strict, nan_to_null, dtype_if_empty)\u001B[0m\n\u001B[0;32m    287\u001B[0m             \u001B[38;5;28;01mreturn\u001B[39;00m\n\u001B[0;32m    289\u001B[0m     \u001B[38;5;28;01mif\u001B[39;00m dtype \u001B[38;5;129;01mis\u001B[39;00m \u001B[38;5;129;01mnot\u001B[39;00m \u001B[38;5;28;01mNone\u001B[39;00m:\n\u001B[1;32m--> 290\u001B[0m         \u001B[38;5;28mself\u001B[39m\u001B[38;5;241m.\u001B[39m_s \u001B[38;5;241m=\u001B[39m \u001B[38;5;28;43mself\u001B[39;49m\u001B[38;5;241;43m.\u001B[39;49m\u001B[43mcast\u001B[49m\u001B[43m(\u001B[49m\u001B[43mdtype\u001B[49m\u001B[43m,\u001B[49m\u001B[43m \u001B[49m\u001B[43mstrict\u001B[49m\u001B[38;5;241;43m=\u001B[39;49m\u001B[38;5;28;43;01mTrue\u001B[39;49;00m\u001B[43m)\u001B[49m\u001B[38;5;241m.\u001B[39m_s\n\u001B[0;32m    292\u001B[0m \u001B[38;5;28;01melif\u001B[39;00m _check_for_pyarrow(values) \u001B[38;5;129;01mand\u001B[39;00m \u001B[38;5;28misinstance\u001B[39m(\n\u001B[0;32m    293\u001B[0m     values, (pa\u001B[38;5;241m.\u001B[39mArray, pa\u001B[38;5;241m.\u001B[39mChunkedArray)\n\u001B[0;32m    294\u001B[0m ):\n\u001B[0;32m    295\u001B[0m     \u001B[38;5;28mself\u001B[39m\u001B[38;5;241m.\u001B[39m_s \u001B[38;5;241m=\u001B[39m arrow_to_pyseries(name, values)\n",
      "File \u001B[1;32m~\\miniconda\\envs\\yaib\\lib\\site-packages\\polars\\series\\series.py:2991\u001B[0m, in \u001B[0;36mSeries.cast\u001B[1;34m(self, dtype, strict)\u001B[0m\n\u001B[0;32m   2989\u001B[0m \u001B[38;5;66;03m# Do not dispatch cast as it is expensive and used in other functions.\u001B[39;00m\n\u001B[0;32m   2990\u001B[0m dtype \u001B[38;5;241m=\u001B[39m py_type_to_dtype(dtype)\n\u001B[1;32m-> 2991\u001B[0m \u001B[38;5;28;01mreturn\u001B[39;00m \u001B[38;5;28mself\u001B[39m\u001B[38;5;241m.\u001B[39m_from_pyseries(\u001B[38;5;28;43mself\u001B[39;49m\u001B[38;5;241;43m.\u001B[39;49m\u001B[43m_s\u001B[49m\u001B[38;5;241;43m.\u001B[39;49m\u001B[43mcast\u001B[49m\u001B[43m(\u001B[49m\u001B[43mdtype\u001B[49m\u001B[43m,\u001B[49m\u001B[43m \u001B[49m\u001B[43mstrict\u001B[49m\u001B[43m)\u001B[49m)\n",
      "\u001B[1;31mComputeError\u001B[0m: cannot cast 'Object' type"
     ]
    }
   ],
   "source": [
    "pl.Series(np.concatenate([(np.arange(0,6) * interval), (np.arange(0,4) * interval)],dtype=timedelta)"
   ],
   "metadata": {
    "collapsed": false
   }
  },
  {
   "cell_type": "markdown",
   "source": [],
   "metadata": {
    "collapsed": false
   }
  },
  {
   "cell_type": "code",
   "execution_count": 51,
   "outputs": [
    {
     "data": {
      "text/plain": "array([datetime.timedelta(0), datetime.timedelta(seconds=3600),\n       datetime.timedelta(seconds=7200),\n       datetime.timedelta(seconds=10800),\n       datetime.timedelta(seconds=14400),\n       datetime.timedelta(seconds=18000), datetime.timedelta(0),\n       datetime.timedelta(seconds=3600), datetime.timedelta(seconds=7200),\n       datetime.timedelta(seconds=10800)], dtype=object)"
     },
     "execution_count": 51,
     "metadata": {},
     "output_type": "execute_result"
    }
   ],
   "source": [
    "np.concatenate([(np.arange(0,6) * interval), (np.arange(0,4) * interval)])"
   ],
   "metadata": {
    "collapsed": false
   }
  },
  {
   "cell_type": "code",
   "execution_count": 58,
   "outputs": [
    {
     "ename": "ValueError",
     "evalue": "Series constructor called with unsupported type; got <class 'polars.expr.expr.Expr'>",
     "output_type": "error",
     "traceback": [
      "\u001B[1;31m---------------------------------------------------------------------------\u001B[0m",
      "\u001B[1;31mValueError\u001B[0m                                Traceback (most recent call last)",
      "Cell \u001B[1;32mIn[58], line 1\u001B[0m\n\u001B[1;32m----> 1\u001B[0m \u001B[43mpl\u001B[49m\u001B[38;5;241;43m.\u001B[39;49m\u001B[43mSeries\u001B[49m\u001B[43m(\u001B[49m\u001B[43mpl\u001B[49m\u001B[38;5;241;43m.\u001B[39;49m\u001B[43mconcat\u001B[49m\u001B[43m(\u001B[49m\u001B[43m[\u001B[49m\u001B[43mpl\u001B[49m\u001B[38;5;241;43m.\u001B[39;49m\u001B[43marange\u001B[49m\u001B[43m(\u001B[49m\u001B[38;5;241;43m0\u001B[39;49m\u001B[43m,\u001B[49m\u001B[38;5;241;43m6\u001B[39;49m\u001B[43m)\u001B[49m\u001B[43m \u001B[49m\u001B[38;5;241;43m*\u001B[39;49m\u001B[43m \u001B[49m\u001B[43minterval\u001B[49m\u001B[43m,\u001B[49m\u001B[43m \u001B[49m\u001B[43mpl\u001B[49m\u001B[38;5;241;43m.\u001B[39;49m\u001B[43marange\u001B[49m\u001B[43m(\u001B[49m\u001B[38;5;241;43m0\u001B[39;49m\u001B[43m,\u001B[49m\u001B[38;5;241;43m4\u001B[39;49m\u001B[43m)\u001B[49m\u001B[43m \u001B[49m\u001B[38;5;241;43m*\u001B[39;49m\u001B[43m \u001B[49m\u001B[43minterval\u001B[49m\u001B[43m]\u001B[49m\u001B[43m)\u001B[49m\u001B[43m)\u001B[49m\n",
      "File \u001B[1;32m~\\miniconda\\envs\\yaib\\lib\\site-packages\\polars\\series\\series.py:311\u001B[0m, in \u001B[0;36mSeries.__init__\u001B[1;34m(self, name, values, dtype, strict, nan_to_null, dtype_if_empty)\u001B[0m\n\u001B[0;32m    303\u001B[0m     \u001B[38;5;28mself\u001B[39m\u001B[38;5;241m.\u001B[39m_s \u001B[38;5;241m=\u001B[39m iterable_to_pyseries(\n\u001B[0;32m    304\u001B[0m         name,\n\u001B[0;32m    305\u001B[0m         values,\n\u001B[1;32m   (...)\u001B[0m\n\u001B[0;32m    308\u001B[0m         dtype_if_empty\u001B[38;5;241m=\u001B[39mdtype_if_empty,\n\u001B[0;32m    309\u001B[0m     )\n\u001B[0;32m    310\u001B[0m \u001B[38;5;28;01melse\u001B[39;00m:\n\u001B[1;32m--> 311\u001B[0m     \u001B[38;5;28;01mraise\u001B[39;00m \u001B[38;5;167;01mValueError\u001B[39;00m(\n\u001B[0;32m    312\u001B[0m         \u001B[38;5;124mf\u001B[39m\u001B[38;5;124m\"\u001B[39m\u001B[38;5;124mSeries constructor called with unsupported type; got \u001B[39m\u001B[38;5;132;01m{\u001B[39;00m\u001B[38;5;28mtype\u001B[39m(values)\u001B[38;5;132;01m}\u001B[39;00m\u001B[38;5;124m\"\u001B[39m\n\u001B[0;32m    313\u001B[0m     )\n",
      "\u001B[1;31mValueError\u001B[0m: Series constructor called with unsupported type; got <class 'polars.expr.expr.Expr'>"
     ]
    }
   ],
   "source": [
    "pl.Series(pl.concat([pl.arange(0,6) * interval, pl.arange(0,4) * interval]))"
   ],
   "metadata": {
    "collapsed": false
   }
  },
  {
   "cell_type": "code",
   "execution_count": 59,
   "outputs": [
    {
     "data": {
      "text/plain": "<polars.expr.expr.Expr at 0x242e9c6b430>",
      "text/html": "0.duration([0, 0, 0, 0, 0, 1, 0]).alias(\"duration\")"
     },
     "execution_count": 59,
     "metadata": {},
     "output_type": "execute_result"
    }
   ],
   "source": [
    "pl.duration(hours=1)"
   ],
   "metadata": {
    "collapsed": false
   }
  },
  {
   "cell_type": "code",
   "execution_count": 62,
   "outputs": [
    {
     "data": {
      "text/plain": "<polars.expr.expr.Expr at 0x242e9c000a0>",
      "text/html": "[(0.duration([0, 0, 0, 0, 0, 1, 0]).alias(\"duration\")) * (Series)]"
     },
     "execution_count": 62,
     "metadata": {},
     "output_type": "execute_result"
    }
   ],
   "source": [
    "(pl.duration(hours=1) * [0,1,2])"
   ],
   "metadata": {
    "collapsed": false
   }
  },
  {
   "cell_type": "code",
   "execution_count": 66,
   "outputs": [
    {
     "ename": "TypeError",
     "evalue": "argument of type 'Expr' is not iterable",
     "output_type": "error",
     "traceback": [
      "\u001B[1;31m---------------------------------------------------------------------------\u001B[0m",
      "\u001B[1;31mTypeError\u001B[0m                                 Traceback (most recent call last)",
      "Cell \u001B[1;32mIn[66], line 1\u001B[0m\n\u001B[1;32m----> 1\u001B[0m \u001B[43mpl\u001B[49m\u001B[38;5;241;43m.\u001B[39;49m\u001B[43mdate_range\u001B[49m\u001B[43m(\u001B[49m\u001B[43mpl\u001B[49m\u001B[38;5;241;43m.\u001B[39;49m\u001B[43mtime\u001B[49m\u001B[43m(\u001B[49m\u001B[38;5;241;43m0\u001B[39;49m\u001B[43m)\u001B[49m\u001B[43m,\u001B[49m\u001B[43m \u001B[49m\u001B[43mpl\u001B[49m\u001B[38;5;241;43m.\u001B[39;49m\u001B[43mtime\u001B[49m\u001B[43m(\u001B[49m\u001B[38;5;241;43m6\u001B[39;49m\u001B[43m)\u001B[49m\u001B[43m,\u001B[49m\u001B[43m \u001B[49m\u001B[43minterval\u001B[49m\u001B[38;5;241;43m=\u001B[39;49m\u001B[43mpl\u001B[49m\u001B[38;5;241;43m.\u001B[39;49m\u001B[43mduration\u001B[49m\u001B[43m(\u001B[49m\u001B[43mhours\u001B[49m\u001B[38;5;241;43m=\u001B[39;49m\u001B[38;5;241;43m1\u001B[39;49m\u001B[43m)\u001B[49m\u001B[43m)\u001B[49m\u001B[38;5;241m.\u001B[39mto_pandas()\n",
      "File \u001B[1;32m~\\miniconda\\envs\\yaib\\lib\\site-packages\\polars\\utils\\decorators.py:37\u001B[0m, in \u001B[0;36mdeprecated_alias.<locals>.deco.<locals>.wrapper\u001B[1;34m(*args, **kwargs)\u001B[0m\n\u001B[0;32m     34\u001B[0m \u001B[38;5;129m@wraps\u001B[39m(function)\n\u001B[0;32m     35\u001B[0m \u001B[38;5;28;01mdef\u001B[39;00m \u001B[38;5;21mwrapper\u001B[39m(\u001B[38;5;241m*\u001B[39margs: P\u001B[38;5;241m.\u001B[39margs, \u001B[38;5;241m*\u001B[39m\u001B[38;5;241m*\u001B[39mkwargs: P\u001B[38;5;241m.\u001B[39mkwargs) \u001B[38;5;241m-\u001B[39m\u001B[38;5;241m>\u001B[39m T:\n\u001B[0;32m     36\u001B[0m     _rename_kwargs(function\u001B[38;5;241m.\u001B[39m\u001B[38;5;18m__name__\u001B[39m, kwargs, aliases)\n\u001B[1;32m---> 37\u001B[0m     \u001B[38;5;28;01mreturn\u001B[39;00m function(\u001B[38;5;241m*\u001B[39margs, \u001B[38;5;241m*\u001B[39m\u001B[38;5;241m*\u001B[39mkwargs)\n",
      "File \u001B[1;32m~\\miniconda\\envs\\yaib\\lib\\site-packages\\polars\\functions\\range.py:362\u001B[0m, in \u001B[0;36mdate_range\u001B[1;34m(start, end, interval, closed, time_unit, time_zone, eager, name)\u001B[0m\n\u001B[0;32m    360\u001B[0m \u001B[38;5;28;01mif\u001B[39;00m \u001B[38;5;28misinstance\u001B[39m(interval, timedelta):\n\u001B[0;32m    361\u001B[0m     interval \u001B[38;5;241m=\u001B[39m _timedelta_to_pl_duration(interval)\n\u001B[1;32m--> 362\u001B[0m \u001B[38;5;28;01melif\u001B[39;00m \u001B[38;5;124;43m\"\u001B[39;49m\u001B[38;5;124;43m \u001B[39;49m\u001B[38;5;124;43m\"\u001B[39;49m\u001B[43m \u001B[49m\u001B[38;5;129;43;01min\u001B[39;49;00m\u001B[43m \u001B[49m\u001B[43minterval\u001B[49m:\n\u001B[0;32m    363\u001B[0m     interval \u001B[38;5;241m=\u001B[39m interval\u001B[38;5;241m.\u001B[39mreplace(\u001B[38;5;124m\"\u001B[39m\u001B[38;5;124m \u001B[39m\u001B[38;5;124m\"\u001B[39m, \u001B[38;5;124m\"\u001B[39m\u001B[38;5;124m\"\u001B[39m)\n\u001B[0;32m    365\u001B[0m \u001B[38;5;28;01mif\u001B[39;00m (\n\u001B[0;32m    366\u001B[0m     \u001B[38;5;129;01mnot\u001B[39;00m eager\n\u001B[0;32m    367\u001B[0m     \u001B[38;5;129;01mor\u001B[39;00m \u001B[38;5;28misinstance\u001B[39m(start, (\u001B[38;5;28mstr\u001B[39m, pl\u001B[38;5;241m.\u001B[39mExpr))\n\u001B[0;32m    368\u001B[0m     \u001B[38;5;129;01mor\u001B[39;00m \u001B[38;5;28misinstance\u001B[39m(end, (\u001B[38;5;28mstr\u001B[39m, pl\u001B[38;5;241m.\u001B[39mExpr))\n\u001B[0;32m    369\u001B[0m ):\n",
      "\u001B[1;31mTypeError\u001B[0m: argument of type 'Expr' is not iterable"
     ]
    }
   ],
   "source": [
    "pl.date_range(pl.time(0), pl.time(6), interval=pl.duration(hours=1)).to_pandas()"
   ],
   "metadata": {
    "collapsed": false
   }
  },
  {
   "cell_type": "code",
   "execution_count": 69,
   "outputs": [
    {
     "ename": "AttributeError",
     "evalue": "module 'polars' has no attribute 'range'",
     "output_type": "error",
     "traceback": [
      "\u001B[1;31m---------------------------------------------------------------------------\u001B[0m",
      "\u001B[1;31mAttributeError\u001B[0m                            Traceback (most recent call last)",
      "Cell \u001B[1;32mIn[69], line 1\u001B[0m\n\u001B[1;32m----> 1\u001B[0m \u001B[43mpl\u001B[49m\u001B[38;5;241;43m.\u001B[39;49m\u001B[43mrange\u001B[49m(\u001B[38;5;241m0\u001B[39m,\u001B[38;5;241m6\u001B[39m)\n",
      "\u001B[1;31mAttributeError\u001B[0m: module 'polars' has no attribute 'range'"
     ]
    }
   ],
   "source": [
    "pl.range(0,6)"
   ],
   "metadata": {
    "collapsed": false
   }
  },
  {
   "cell_type": "code",
   "execution_count": 70,
   "outputs": [],
   "source": [
    "import pandas as pd\n",
    "import numpy as np\n",
    "rand_state = np.random.RandomState(42)\n",
    "df = pd.DataFrame(\n",
    "    {\n",
    "        \"id\": [1] * 6 + [2] * 4,\n",
    "        \"time\": pd.to_timedelta(np.concatenate((np.arange(6), np.arange(4))), unit=\"h\"),\n",
    "        \"y\": rand_state.normal(size=(10,)),\n",
    "        \"x1\": rand_state.normal(loc=10, scale=5, size=(10,)),\n",
    "        \"x2\": rand_state.binomial(n=1, p=0.3, size=(10,)),\n",
    "        \"x3\": pd.Series([\"a\", \"b\", \"c\", \"a\", \"c\", \"b\", \"c\", \"a\", \"b\", \"c\"], dtype=\"category\"),\n",
    "        \"x4\": pd.Series([\"x\", \"y\", \"y\", \"x\", \"y\", \"y\", \"x\", \"x\", \"y\", \"x\"], dtype=\"category\"),\n",
    "    }\n",
    ")"
   ],
   "metadata": {
    "collapsed": false
   }
  },
  {
   "cell_type": "code",
   "execution_count": 72,
   "outputs": [
    {
     "data": {
      "text/plain": "TimedeltaIndex(['0 days 00:00:00', '0 days 01:00:00', '0 days 02:00:00',\n                '0 days 03:00:00', '0 days 04:00:00', '0 days 05:00:00',\n                '0 days 00:00:00', '0 days 01:00:00', '0 days 02:00:00',\n                '0 days 03:00:00'],\n               dtype='timedelta64[ns]', freq=None)"
     },
     "execution_count": 72,
     "metadata": {},
     "output_type": "execute_result"
    }
   ],
   "source": [
    "pd.to_timedelta(np.concatenate((np.arange(6), np.arange(4))), unit=\"h\")"
   ],
   "metadata": {
    "collapsed": false
   }
  },
  {
   "cell_type": "code",
   "execution_count": 73,
   "outputs": [
    {
     "ename": "ValueError",
     "evalue": "Expected pandas DataFrame or Series, got <class 'pandas.core.indexes.timedeltas.TimedeltaIndex'>.",
     "output_type": "error",
     "traceback": [
      "\u001B[1;31m---------------------------------------------------------------------------\u001B[0m",
      "\u001B[1;31mValueError\u001B[0m                                Traceback (most recent call last)",
      "Cell \u001B[1;32mIn[73], line 1\u001B[0m\n\u001B[1;32m----> 1\u001B[0m \u001B[43mpl\u001B[49m\u001B[38;5;241;43m.\u001B[39;49m\u001B[43mfrom_pandas\u001B[49m\u001B[43m(\u001B[49m\u001B[43mpd\u001B[49m\u001B[38;5;241;43m.\u001B[39;49m\u001B[43mto_timedelta\u001B[49m\u001B[43m(\u001B[49m\u001B[43mnp\u001B[49m\u001B[38;5;241;43m.\u001B[39;49m\u001B[43mconcatenate\u001B[49m\u001B[43m(\u001B[49m\u001B[43m(\u001B[49m\u001B[43mnp\u001B[49m\u001B[38;5;241;43m.\u001B[39;49m\u001B[43marange\u001B[49m\u001B[43m(\u001B[49m\u001B[38;5;241;43m6\u001B[39;49m\u001B[43m)\u001B[49m\u001B[43m,\u001B[49m\u001B[43m \u001B[49m\u001B[43mnp\u001B[49m\u001B[38;5;241;43m.\u001B[39;49m\u001B[43marange\u001B[49m\u001B[43m(\u001B[49m\u001B[38;5;241;43m4\u001B[39;49m\u001B[43m)\u001B[49m\u001B[43m)\u001B[49m\u001B[43m)\u001B[49m\u001B[43m,\u001B[49m\u001B[43m \u001B[49m\u001B[43munit\u001B[49m\u001B[38;5;241;43m=\u001B[39;49m\u001B[38;5;124;43m\"\u001B[39;49m\u001B[38;5;124;43mh\u001B[39;49m\u001B[38;5;124;43m\"\u001B[39;49m\u001B[43m)\u001B[49m\u001B[43m)\u001B[49m\n",
      "File \u001B[1;32m~\\miniconda\\envs\\yaib\\lib\\site-packages\\polars\\convert.py:728\u001B[0m, in \u001B[0;36mfrom_pandas\u001B[1;34m(data, schema_overrides, rechunk, nan_to_null, include_index)\u001B[0m\n\u001B[0;32m    720\u001B[0m     \u001B[38;5;28;01mreturn\u001B[39;00m pl\u001B[38;5;241m.\u001B[39mDataFrame\u001B[38;5;241m.\u001B[39m_from_pandas(\n\u001B[0;32m    721\u001B[0m         data,\n\u001B[0;32m    722\u001B[0m         rechunk\u001B[38;5;241m=\u001B[39mrechunk,\n\u001B[1;32m   (...)\u001B[0m\n\u001B[0;32m    725\u001B[0m         include_index\u001B[38;5;241m=\u001B[39minclude_index,\n\u001B[0;32m    726\u001B[0m     )\n\u001B[0;32m    727\u001B[0m \u001B[38;5;28;01melse\u001B[39;00m:\n\u001B[1;32m--> 728\u001B[0m     \u001B[38;5;28;01mraise\u001B[39;00m \u001B[38;5;167;01mValueError\u001B[39;00m(\u001B[38;5;124mf\u001B[39m\u001B[38;5;124m\"\u001B[39m\u001B[38;5;124mExpected pandas DataFrame or Series, got \u001B[39m\u001B[38;5;132;01m{\u001B[39;00m\u001B[38;5;28mtype\u001B[39m(data)\u001B[38;5;132;01m}\u001B[39;00m\u001B[38;5;124m.\u001B[39m\u001B[38;5;124m\"\u001B[39m)\n",
      "\u001B[1;31mValueError\u001B[0m: Expected pandas DataFrame or Series, got <class 'pandas.core.indexes.timedeltas.TimedeltaIndex'>."
     ]
    }
   ],
   "source": [
    "pl.from_pandas(pd.to_timedelta(np.concatenate((np.arange(6), np.arange(4))), unit=\"h\"))"
   ],
   "metadata": {
    "collapsed": false
   }
  },
  {
   "cell_type": "code",
   "execution_count": 74,
   "outputs": [],
   "source": [
    "values = np.concatenate((np.arange(6), np.arange(4)))"
   ],
   "metadata": {
    "collapsed": false
   }
  },
  {
   "cell_type": "code",
   "execution_count": 75,
   "outputs": [
    {
     "data": {
      "text/plain": "array([0, 1, 2, 3, 4, 5, 0, 1, 2, 3])"
     },
     "execution_count": 75,
     "metadata": {},
     "output_type": "execute_result"
    }
   ],
   "source": [
    "values"
   ],
   "metadata": {
    "collapsed": false
   }
  },
  {
   "cell_type": "code",
   "execution_count": 76,
   "outputs": [
    {
     "ename": "AttributeError",
     "evalue": "module 'polars' has no attribute 'Timedelta'",
     "output_type": "error",
     "traceback": [
      "\u001B[1;31m---------------------------------------------------------------------------\u001B[0m",
      "\u001B[1;31mAttributeError\u001B[0m                            Traceback (most recent call last)",
      "Cell \u001B[1;32mIn[76], line 1\u001B[0m\n\u001B[1;32m----> 1\u001B[0m polar_series \u001B[38;5;241m=\u001B[39m pl\u001B[38;5;241m.\u001B[39mSeries(values, dtype\u001B[38;5;241m=\u001B[39m\u001B[43mpl\u001B[49m\u001B[38;5;241;43m.\u001B[39;49m\u001B[43mTimedelta\u001B[49m)\u001B[38;5;241m.\u001B[39mto_timedelta(unit\u001B[38;5;241m=\u001B[39m\u001B[38;5;124m\"\u001B[39m\u001B[38;5;124mh\u001B[39m\u001B[38;5;124m\"\u001B[39m)\n",
      "\u001B[1;31mAttributeError\u001B[0m: module 'polars' has no attribute 'Timedelta'"
     ]
    }
   ],
   "source": [
    "polar_series = pl.Series(values, dtype=pl.).to_timedelta(unit=\"h\")"
   ],
   "metadata": {
    "collapsed": false
   }
  },
  {
   "cell_type": "code",
   "execution_count": 77,
   "outputs": [
    {
     "ename": "TypeError",
     "evalue": "Series.cast() got an unexpected keyword argument 'unit'",
     "output_type": "error",
     "traceback": [
      "\u001B[1;31m---------------------------------------------------------------------------\u001B[0m",
      "\u001B[1;31mTypeError\u001B[0m                                 Traceback (most recent call last)",
      "Cell \u001B[1;32mIn[77], line 1\u001B[0m\n\u001B[1;32m----> 1\u001B[0m polar_series \u001B[38;5;241m=\u001B[39m \u001B[43mpl\u001B[49m\u001B[38;5;241;43m.\u001B[39;49m\u001B[43mSeries\u001B[49m\u001B[43m(\u001B[49m\u001B[43mvalues\u001B[49m\u001B[43m,\u001B[49m\u001B[43m \u001B[49m\u001B[43mdtype\u001B[49m\u001B[38;5;241;43m=\u001B[39;49m\u001B[43mpl\u001B[49m\u001B[38;5;241;43m.\u001B[39;49m\u001B[43mDuration\u001B[49m\u001B[43m)\u001B[49m\u001B[38;5;241;43m.\u001B[39;49m\u001B[43mcast\u001B[49m\u001B[43m(\u001B[49m\u001B[43mpl\u001B[49m\u001B[38;5;241;43m.\u001B[39;49m\u001B[43mDuration\u001B[49m\u001B[43m,\u001B[49m\u001B[43m \u001B[49m\u001B[43munit\u001B[49m\u001B[38;5;241;43m=\u001B[39;49m\u001B[38;5;124;43m\"\u001B[39;49m\u001B[38;5;124;43mh\u001B[39;49m\u001B[38;5;124;43m\"\u001B[39;49m\u001B[43m)\u001B[49m\n",
      "\u001B[1;31mTypeError\u001B[0m: Series.cast() got an unexpected keyword argument 'unit'"
     ]
    }
   ],
   "source": [
    "polar_series = pl.Series(values, dtype=pl.Duration).cast(pl.Duration, unit=\"h\")"
   ],
   "metadata": {
    "collapsed": false
   }
  },
  {
   "cell_type": "code",
   "execution_count": 80,
   "outputs": [],
   "source": [
    "values = np.concatenate((np.arange(6), np.arange(4)))\n",
    "timedeltas = np.array(values, dtype=timedelta)\n",
    "polar_series = pl.Series(timedeltas)"
   ],
   "metadata": {
    "collapsed": false
   }
  },
  {
   "cell_type": "markdown",
   "source": [],
   "metadata": {
    "collapsed": false
   }
  },
  {
   "cell_type": "code",
   "execution_count": 81,
   "outputs": [
    {
     "data": {
      "text/plain": "shape: (10,)\nSeries: '' [o][object]\n[\n\t0\n\t1\n\t2\n\t3\n\t4\n\t5\n\t0\n\t1\n\t2\n\t3\n]",
      "text/html": "<div><style>\n.dataframe > thead > tr > th,\n.dataframe > tbody > tr > td {\n  text-align: right;\n}\n</style>\n<small>shape: (10,)</small><table border=\"1\" class=\"dataframe\"><thead><tr><th></th></tr><tr><td>object</td></tr></thead><tbody><tr><td>0</td></tr><tr><td>1</td></tr><tr><td>2</td></tr><tr><td>3</td></tr><tr><td>4</td></tr><tr><td>5</td></tr><tr><td>0</td></tr><tr><td>1</td></tr><tr><td>2</td></tr><tr><td>3</td></tr></tbody></table></div>"
     },
     "execution_count": 81,
     "metadata": {},
     "output_type": "execute_result"
    }
   ],
   "source": [
    "polar_series"
   ],
   "metadata": {
    "collapsed": false
   }
  },
  {
   "cell_type": "code",
   "execution_count": 82,
   "outputs": [
    {
     "data": {
      "text/plain": "<polars.expr.expr.Expr at 0x242ea8d8fa0>",
      "text/html": "0.duration([0, 0, 0, 0, 0, 1, 0]).alias(\"duration\")"
     },
     "execution_count": 82,
     "metadata": {},
     "output_type": "execute_result"
    }
   ],
   "source": [
    "pl.duration(hours=1)"
   ],
   "metadata": {
    "collapsed": false
   }
  },
  {
   "cell_type": "code",
   "execution_count": 85,
   "outputs": [
    {
     "data": {
      "text/plain": "<polars.expr.expr.Expr at 0x242ea8cbc10>",
      "text/html": "[(0.([6]).alias(\"arange\")) * (0.duration([0, 0, 0, 0, 0, 1, 0]).alias(\"duration\"))]"
     },
     "execution_count": 85,
     "metadata": {},
     "output_type": "execute_result"
    }
   ],
   "source": [
    "pl.arange(0,6)*pl.duration(hours=1)"
   ],
   "metadata": {
    "collapsed": false
   }
  },
  {
   "cell_type": "code",
   "execution_count": null,
   "outputs": [],
   "source": [],
   "metadata": {
    "collapsed": false
   }
  },
  {
   "cell_type": "code",
   "execution_count": 88,
   "outputs": [
    {
     "name": "stdout",
     "output_type": "stream",
     "text": [
      "[(0.([6]).alias(\"arange\")) * (0.duration([0, 0, 0, 0, 0, 1, 0]).alias(\"duration\").map_list())]\n"
     ]
    }
   ],
   "source": [
    "print(pl.arange(0,6)*pl.duration(hours=1).inspect())"
   ],
   "metadata": {
    "collapsed": false
   }
  },
  {
   "cell_type": "markdown",
   "source": [],
   "metadata": {
    "collapsed": false
   }
  },
  {
   "cell_type": "markdown",
   "source": [],
   "metadata": {
    "collapsed": false
   }
  },
  {
   "cell_type": "code",
   "execution_count": 92,
   "outputs": [
    {
     "ename": "ValueError",
     "evalue": "Series constructor called with unsupported type; got <class 'polars.expr.expr.Expr'>",
     "output_type": "error",
     "traceback": [
      "\u001B[1;31m---------------------------------------------------------------------------\u001B[0m",
      "\u001B[1;31mValueError\u001B[0m                                Traceback (most recent call last)",
      "Cell \u001B[1;32mIn[92], line 1\u001B[0m\n\u001B[1;32m----> 1\u001B[0m \u001B[43mpl\u001B[49m\u001B[38;5;241;43m.\u001B[39;49m\u001B[43mSeries\u001B[49m\u001B[43m(\u001B[49m\u001B[43mpl\u001B[49m\u001B[38;5;241;43m.\u001B[39;49m\u001B[43marange\u001B[49m\u001B[43m(\u001B[49m\u001B[38;5;241;43m0\u001B[39;49m\u001B[43m,\u001B[49m\u001B[38;5;241;43m6\u001B[39;49m\u001B[43m)\u001B[49m\u001B[43m)\u001B[49m\n",
      "File \u001B[1;32m~\\miniconda\\envs\\yaib\\lib\\site-packages\\polars\\series\\series.py:311\u001B[0m, in \u001B[0;36mSeries.__init__\u001B[1;34m(self, name, values, dtype, strict, nan_to_null, dtype_if_empty)\u001B[0m\n\u001B[0;32m    303\u001B[0m     \u001B[38;5;28mself\u001B[39m\u001B[38;5;241m.\u001B[39m_s \u001B[38;5;241m=\u001B[39m iterable_to_pyseries(\n\u001B[0;32m    304\u001B[0m         name,\n\u001B[0;32m    305\u001B[0m         values,\n\u001B[1;32m   (...)\u001B[0m\n\u001B[0;32m    308\u001B[0m         dtype_if_empty\u001B[38;5;241m=\u001B[39mdtype_if_empty,\n\u001B[0;32m    309\u001B[0m     )\n\u001B[0;32m    310\u001B[0m \u001B[38;5;28;01melse\u001B[39;00m:\n\u001B[1;32m--> 311\u001B[0m     \u001B[38;5;28;01mraise\u001B[39;00m \u001B[38;5;167;01mValueError\u001B[39;00m(\n\u001B[0;32m    312\u001B[0m         \u001B[38;5;124mf\u001B[39m\u001B[38;5;124m\"\u001B[39m\u001B[38;5;124mSeries constructor called with unsupported type; got \u001B[39m\u001B[38;5;132;01m{\u001B[39;00m\u001B[38;5;28mtype\u001B[39m(values)\u001B[38;5;132;01m}\u001B[39;00m\u001B[38;5;124m\"\u001B[39m\n\u001B[0;32m    313\u001B[0m     )\n",
      "\u001B[1;31mValueError\u001B[0m: Series constructor called with unsupported type; got <class 'polars.expr.expr.Expr'>"
     ]
    }
   ],
   "source": [
    "pl.Series(pl.arange(0,6))"
   ],
   "metadata": {
    "collapsed": false
   }
  },
  {
   "cell_type": "code",
   "execution_count": 93,
   "outputs": [
    {
     "ename": "ValueError",
     "evalue": "Series constructor called with unsupported type; got <class 'polars.expr.expr.Expr'>",
     "output_type": "error",
     "traceback": [
      "\u001B[1;31m---------------------------------------------------------------------------\u001B[0m",
      "\u001B[1;31mValueError\u001B[0m                                Traceback (most recent call last)",
      "Cell \u001B[1;32mIn[93], line 1\u001B[0m\n\u001B[1;32m----> 1\u001B[0m \u001B[43mpl\u001B[49m\u001B[38;5;241;43m.\u001B[39;49m\u001B[43mSeries\u001B[49m\u001B[43m(\u001B[49m\u001B[43mpl\u001B[49m\u001B[38;5;241;43m.\u001B[39;49m\u001B[43marange\u001B[49m\u001B[43m(\u001B[49m\u001B[38;5;241;43m0\u001B[39;49m\u001B[43m,\u001B[49m\u001B[38;5;241;43m6\u001B[39;49m\u001B[43m)\u001B[49m\u001B[43m)\u001B[49m\u001B[38;5;241m.\u001B[39mcast(pl\u001B[38;5;241m.\u001B[39mDuration, unit\u001B[38;5;241m=\u001B[39m\u001B[38;5;124m\"\u001B[39m\u001B[38;5;124mh\u001B[39m\u001B[38;5;124m\"\u001B[39m)\n",
      "File \u001B[1;32m~\\miniconda\\envs\\yaib\\lib\\site-packages\\polars\\series\\series.py:311\u001B[0m, in \u001B[0;36mSeries.__init__\u001B[1;34m(self, name, values, dtype, strict, nan_to_null, dtype_if_empty)\u001B[0m\n\u001B[0;32m    303\u001B[0m     \u001B[38;5;28mself\u001B[39m\u001B[38;5;241m.\u001B[39m_s \u001B[38;5;241m=\u001B[39m iterable_to_pyseries(\n\u001B[0;32m    304\u001B[0m         name,\n\u001B[0;32m    305\u001B[0m         values,\n\u001B[1;32m   (...)\u001B[0m\n\u001B[0;32m    308\u001B[0m         dtype_if_empty\u001B[38;5;241m=\u001B[39mdtype_if_empty,\n\u001B[0;32m    309\u001B[0m     )\n\u001B[0;32m    310\u001B[0m \u001B[38;5;28;01melse\u001B[39;00m:\n\u001B[1;32m--> 311\u001B[0m     \u001B[38;5;28;01mraise\u001B[39;00m \u001B[38;5;167;01mValueError\u001B[39;00m(\n\u001B[0;32m    312\u001B[0m         \u001B[38;5;124mf\u001B[39m\u001B[38;5;124m\"\u001B[39m\u001B[38;5;124mSeries constructor called with unsupported type; got \u001B[39m\u001B[38;5;132;01m{\u001B[39;00m\u001B[38;5;28mtype\u001B[39m(values)\u001B[38;5;132;01m}\u001B[39;00m\u001B[38;5;124m\"\u001B[39m\n\u001B[0;32m    313\u001B[0m     )\n",
      "\u001B[1;31mValueError\u001B[0m: Series constructor called with unsupported type; got <class 'polars.expr.expr.Expr'>"
     ]
    }
   ],
   "source": [
    "pl.Series(pl.arange(0,6)).cast(pl.Duration, unit=\"h\")"
   ],
   "metadata": {
    "collapsed": false
   }
  },
  {
   "cell_type": "code",
   "execution_count": 94,
   "outputs": [
    {
     "ename": "ValueError",
     "evalue": "Series constructor called with unsupported type; got <class 'polars.expr.expr.Expr'>",
     "output_type": "error",
     "traceback": [
      "\u001B[1;31m---------------------------------------------------------------------------\u001B[0m",
      "\u001B[1;31mValueError\u001B[0m                                Traceback (most recent call last)",
      "Cell \u001B[1;32mIn[94], line 1\u001B[0m\n\u001B[1;32m----> 1\u001B[0m \u001B[43mpl\u001B[49m\u001B[38;5;241;43m.\u001B[39;49m\u001B[43mSeries\u001B[49m\u001B[43m(\u001B[49m\u001B[43mpl\u001B[49m\u001B[38;5;241;43m.\u001B[39;49m\u001B[43marange\u001B[49m\u001B[43m(\u001B[49m\u001B[38;5;241;43m0\u001B[39;49m\u001B[43m,\u001B[49m\u001B[38;5;241;43m6\u001B[39;49m\u001B[43m)\u001B[49m\u001B[43m)\u001B[49m\u001B[38;5;241m.\u001B[39mcast(pl\u001B[38;5;241m.\u001B[39mDuration, unit\u001B[38;5;241m=\u001B[39m\u001B[38;5;124m\"\u001B[39m\u001B[38;5;124mh\u001B[39m\u001B[38;5;124m\"\u001B[39m)\u001B[38;5;241m.\u001B[39mto_pandas()\n",
      "File \u001B[1;32m~\\miniconda\\envs\\yaib\\lib\\site-packages\\polars\\series\\series.py:311\u001B[0m, in \u001B[0;36mSeries.__init__\u001B[1;34m(self, name, values, dtype, strict, nan_to_null, dtype_if_empty)\u001B[0m\n\u001B[0;32m    303\u001B[0m     \u001B[38;5;28mself\u001B[39m\u001B[38;5;241m.\u001B[39m_s \u001B[38;5;241m=\u001B[39m iterable_to_pyseries(\n\u001B[0;32m    304\u001B[0m         name,\n\u001B[0;32m    305\u001B[0m         values,\n\u001B[1;32m   (...)\u001B[0m\n\u001B[0;32m    308\u001B[0m         dtype_if_empty\u001B[38;5;241m=\u001B[39mdtype_if_empty,\n\u001B[0;32m    309\u001B[0m     )\n\u001B[0;32m    310\u001B[0m \u001B[38;5;28;01melse\u001B[39;00m:\n\u001B[1;32m--> 311\u001B[0m     \u001B[38;5;28;01mraise\u001B[39;00m \u001B[38;5;167;01mValueError\u001B[39;00m(\n\u001B[0;32m    312\u001B[0m         \u001B[38;5;124mf\u001B[39m\u001B[38;5;124m\"\u001B[39m\u001B[38;5;124mSeries constructor called with unsupported type; got \u001B[39m\u001B[38;5;132;01m{\u001B[39;00m\u001B[38;5;28mtype\u001B[39m(values)\u001B[38;5;132;01m}\u001B[39;00m\u001B[38;5;124m\"\u001B[39m\n\u001B[0;32m    313\u001B[0m     )\n",
      "\u001B[1;31mValueError\u001B[0m: Series constructor called with unsupported type; got <class 'polars.expr.expr.Expr'>"
     ]
    }
   ],
   "source": [
    "pl.Series(pl.arange(0,6)).cast(pl.Duration, unit=\"h\").to_pandas()"
   ],
   "metadata": {
    "collapsed": false
   }
  },
  {
   "cell_type": "code",
   "execution_count": null,
   "outputs": [
    {
     "ename": "KeyboardInterrupt",
     "evalue": "",
     "output_type": "error",
     "traceback": [
      "\u001B[1;31m---------------------------------------------------------------------------\u001B[0m",
      "\u001B[1;31mKeyboardInterrupt\u001B[0m                         Traceback (most recent call last)",
      "Cell \u001B[1;32mIn[99], line 3\u001B[0m\n\u001B[0;32m      1\u001B[0m test_var \u001B[38;5;241m=\u001B[39m pl\u001B[38;5;241m.\u001B[39mTime(\u001B[38;5;241m0\u001B[39m)\n\u001B[1;32m----> 3\u001B[0m \u001B[38;5;28;43mprint\u001B[39;49m(test)\n",
      "Cell \u001B[1;32mIn[99], line 3\u001B[0m\n\u001B[0;32m      1\u001B[0m test_var \u001B[38;5;241m=\u001B[39m pl\u001B[38;5;241m.\u001B[39mTime(\u001B[38;5;241m0\u001B[39m)\n\u001B[1;32m----> 3\u001B[0m \u001B[38;5;28;43mprint\u001B[39;49m(test)\n",
      "File \u001B[1;32m_pydevd_bundle\\pydevd_cython_win32_310_64.pyx:1179\u001B[0m, in \u001B[0;36m_pydevd_bundle.pydevd_cython_win32_310_64.SafeCallWrapper.__call__\u001B[1;34m()\u001B[0m\n",
      "File \u001B[1;32m_pydevd_bundle\\pydevd_cython_win32_310_64.pyx:620\u001B[0m, in \u001B[0;36m_pydevd_bundle.pydevd_cython_win32_310_64.PyDBFrame.trace_dispatch\u001B[1;34m()\u001B[0m\n",
      "File \u001B[1;32m_pydevd_bundle\\pydevd_cython_win32_310_64.pyx:1095\u001B[0m, in \u001B[0;36m_pydevd_bundle.pydevd_cython_win32_310_64.PyDBFrame.trace_dispatch\u001B[1;34m()\u001B[0m\n",
      "File \u001B[1;32m_pydevd_bundle\\pydevd_cython_win32_310_64.pyx:1053\u001B[0m, in \u001B[0;36m_pydevd_bundle.pydevd_cython_win32_310_64.PyDBFrame.trace_dispatch\u001B[1;34m()\u001B[0m\n",
      "File \u001B[1;32mC:\\Program Files\\JetBrains\\PyCharm 2022.2.4\\plugins\\python\\helpers-pro\\jupyter_debug\\pydev_jupyter_plugin.py:169\u001B[0m, in \u001B[0;36mstop\u001B[1;34m(plugin, pydb, frame, event, args, stop_info, arg, step_cmd)\u001B[0m\n\u001B[0;32m    167\u001B[0m     frame \u001B[38;5;241m=\u001B[39m suspend_jupyter(main_debugger, thread, frame, step_cmd)\n\u001B[0;32m    168\u001B[0m     \u001B[38;5;28;01mif\u001B[39;00m frame:\n\u001B[1;32m--> 169\u001B[0m         \u001B[43mmain_debugger\u001B[49m\u001B[38;5;241;43m.\u001B[39;49m\u001B[43mdo_wait_suspend\u001B[49m\u001B[43m(\u001B[49m\u001B[43mthread\u001B[49m\u001B[43m,\u001B[49m\u001B[43m \u001B[49m\u001B[43mframe\u001B[49m\u001B[43m,\u001B[49m\u001B[43m \u001B[49m\u001B[43mevent\u001B[49m\u001B[43m,\u001B[49m\u001B[43m \u001B[49m\u001B[43marg\u001B[49m\u001B[43m)\u001B[49m\n\u001B[0;32m    170\u001B[0m         \u001B[38;5;28;01mreturn\u001B[39;00m \u001B[38;5;28;01mTrue\u001B[39;00m\n\u001B[0;32m    171\u001B[0m \u001B[38;5;28;01mreturn\u001B[39;00m \u001B[38;5;28;01mFalse\u001B[39;00m\n",
      "File \u001B[1;32mC:\\Program Files\\JetBrains\\PyCharm 2022.2.4\\plugins\\python\\helpers\\pydev\\pydevd.py:1160\u001B[0m, in \u001B[0;36mPyDB.do_wait_suspend\u001B[1;34m(self, thread, frame, event, arg, send_suspend_message, is_unhandled_exception)\u001B[0m\n\u001B[0;32m   1157\u001B[0m         from_this_thread\u001B[38;5;241m.\u001B[39mappend(frame_id)\n\u001B[0;32m   1159\u001B[0m \u001B[38;5;28;01mwith\u001B[39;00m \u001B[38;5;28mself\u001B[39m\u001B[38;5;241m.\u001B[39m_threads_suspended_single_notification\u001B[38;5;241m.\u001B[39mnotify_thread_suspended(thread_id, stop_reason):\n\u001B[1;32m-> 1160\u001B[0m     \u001B[38;5;28;43mself\u001B[39;49m\u001B[38;5;241;43m.\u001B[39;49m\u001B[43m_do_wait_suspend\u001B[49m\u001B[43m(\u001B[49m\u001B[43mthread\u001B[49m\u001B[43m,\u001B[49m\u001B[43m \u001B[49m\u001B[43mframe\u001B[49m\u001B[43m,\u001B[49m\u001B[43m \u001B[49m\u001B[43mevent\u001B[49m\u001B[43m,\u001B[49m\u001B[43m \u001B[49m\u001B[43marg\u001B[49m\u001B[43m,\u001B[49m\u001B[43m \u001B[49m\u001B[43msuspend_type\u001B[49m\u001B[43m,\u001B[49m\u001B[43m \u001B[49m\u001B[43mfrom_this_thread\u001B[49m\u001B[43m)\u001B[49m\n",
      "File \u001B[1;32mC:\\Program Files\\JetBrains\\PyCharm 2022.2.4\\plugins\\python\\helpers\\pydev\\pydevd.py:1175\u001B[0m, in \u001B[0;36mPyDB._do_wait_suspend\u001B[1;34m(self, thread, frame, event, arg, suspend_type, from_this_thread)\u001B[0m\n\u001B[0;32m   1172\u001B[0m             \u001B[38;5;28mself\u001B[39m\u001B[38;5;241m.\u001B[39m_call_mpl_hook()\n\u001B[0;32m   1174\u001B[0m         \u001B[38;5;28mself\u001B[39m\u001B[38;5;241m.\u001B[39mprocess_internal_commands()\n\u001B[1;32m-> 1175\u001B[0m         \u001B[43mtime\u001B[49m\u001B[38;5;241;43m.\u001B[39;49m\u001B[43msleep\u001B[49m\u001B[43m(\u001B[49m\u001B[38;5;241;43m0.01\u001B[39;49m\u001B[43m)\u001B[49m\n\u001B[0;32m   1177\u001B[0m \u001B[38;5;28mself\u001B[39m\u001B[38;5;241m.\u001B[39mcancel_async_evaluation(get_current_thread_id(thread), \u001B[38;5;28mstr\u001B[39m(\u001B[38;5;28mid\u001B[39m(frame)))\n\u001B[0;32m   1179\u001B[0m \u001B[38;5;66;03m# process any stepping instructions\u001B[39;00m\n",
      "\u001B[1;31mKeyboardInterrupt\u001B[0m: "
     ]
    }
   ],
   "source": [
    "test_var = pl.DateTime()\n",
    "\n",
    "print(test)"
   ],
   "metadata": {
    "collapsed": false
   }
  },
  {
   "cell_type": "code",
   "execution_count": 96,
   "outputs": [
    {
     "ename": "AttributeError",
     "evalue": "'Time' object has no attribute 'to_pandas'",
     "output_type": "error",
     "traceback": [
      "\u001B[1;31m---------------------------------------------------------------------------\u001B[0m",
      "\u001B[1;31mAttributeError\u001B[0m                            Traceback (most recent call last)",
      "Cell \u001B[1;32mIn[96], line 1\u001B[0m\n\u001B[1;32m----> 1\u001B[0m \u001B[43mpl\u001B[49m\u001B[38;5;241;43m.\u001B[39;49m\u001B[43mTime\u001B[49m\u001B[43m(\u001B[49m\u001B[38;5;241;43m0\u001B[39;49m\u001B[43m)\u001B[49m\u001B[38;5;241;43m.\u001B[39;49m\u001B[43mto_pandas\u001B[49m()\n",
      "\u001B[1;31mAttributeError\u001B[0m: 'Time' object has no attribute 'to_pandas'"
     ]
    }
   ],
   "source": [
    "pl.Time(0)"
   ],
   "metadata": {
    "collapsed": false
   }
  },
  {
   "cell_type": "code",
   "execution_count": null,
   "outputs": [],
   "source": [],
   "metadata": {
    "collapsed": false
   }
  },
  {
   "cell_type": "code",
   "execution_count": null,
   "outputs": [],
   "source": [],
   "metadata": {
    "collapsed": false
   }
  },
  {
   "cell_type": "code",
   "execution_count": 109,
   "outputs": [
    {
     "name": "stdout",
     "output_type": "stream",
     "text": [
      "1970.datetime([1, 1, 0, 0, 0, 0]).alias(\"datetime\").strict_cast(Time).alias(\"time\").date_range([1970.datetime([1, 1, 6, 0, 0, 0]).alias(\"datetime\").strict_cast(Time).alias(\"time\")])\n"
     ]
    }
   ],
   "source": [
    "print(pl.date_range(pl.time(0), pl.time(6)))"
   ],
   "metadata": {
    "collapsed": false
   }
  },
  {
   "cell_type": "markdown",
   "source": [],
   "metadata": {
    "collapsed": false
   }
  },
  {
   "cell_type": "code",
   "execution_count": 136,
   "outputs": [
    {
     "data": {
      "text/plain": "<polars.expr.expr.Expr at 0x242eb3028f0>",
      "text/html": "0.strict_cast(Time).time_range([21600000000000.strict_cast(Time)])"
     },
     "execution_count": 136,
     "metadata": {},
     "output_type": "execute_result"
    }
   ],
   "source": [
    "from datetime import time\n",
    "pl.time_range(time(0, 0, 0), time(6, 0, 0), \"1h\", eager=True)"
   ],
   "metadata": {
    "collapsed": false
   }
  },
  {
   "cell_type": "code",
   "execution_count": 106,
   "outputs": [
    {
     "data": {
      "text/plain": "polars.expr.expr.Expr"
     },
     "execution_count": 106,
     "metadata": {},
     "output_type": "execute_result"
    }
   ],
   "source": [
    "type(pl.duration(hours=1))"
   ],
   "metadata": {
    "collapsed": false
   }
  },
  {
   "cell_type": "code",
   "execution_count": 103,
   "outputs": [
    {
     "ename": "TypeError",
     "evalue": "argument of type 'Expr' is not iterable",
     "output_type": "error",
     "traceback": [
      "\u001B[1;31m---------------------------------------------------------------------------\u001B[0m",
      "\u001B[1;31mTypeError\u001B[0m                                 Traceback (most recent call last)",
      "Cell \u001B[1;32mIn[103], line 1\u001B[0m\n\u001B[1;32m----> 1\u001B[0m \u001B[43mpl\u001B[49m\u001B[38;5;241;43m.\u001B[39;49m\u001B[43mdate_range\u001B[49m\u001B[43m(\u001B[49m\u001B[43mpl\u001B[49m\u001B[38;5;241;43m.\u001B[39;49m\u001B[43mtime\u001B[49m\u001B[43m(\u001B[49m\u001B[38;5;241;43m0\u001B[39;49m\u001B[43m)\u001B[49m\u001B[43m,\u001B[49m\u001B[43m \u001B[49m\u001B[43mpl\u001B[49m\u001B[38;5;241;43m.\u001B[39;49m\u001B[43mtime\u001B[49m\u001B[43m(\u001B[49m\u001B[38;5;241;43m6\u001B[39;49m\u001B[43m)\u001B[49m\u001B[43m,\u001B[49m\u001B[43m \u001B[49m\u001B[43minterval\u001B[49m\u001B[38;5;241;43m=\u001B[39;49m\u001B[43mpl\u001B[49m\u001B[38;5;241;43m.\u001B[39;49m\u001B[43mduration\u001B[49m\u001B[43m(\u001B[49m\u001B[43mhours\u001B[49m\u001B[38;5;241;43m=\u001B[39;49m\u001B[38;5;241;43m1\u001B[39;49m\u001B[43m)\u001B[49m\u001B[43m)\u001B[49m\n",
      "File \u001B[1;32m~\\miniconda\\envs\\yaib\\lib\\site-packages\\polars\\utils\\decorators.py:37\u001B[0m, in \u001B[0;36mdeprecated_alias.<locals>.deco.<locals>.wrapper\u001B[1;34m(*args, **kwargs)\u001B[0m\n\u001B[0;32m     34\u001B[0m \u001B[38;5;129m@wraps\u001B[39m(function)\n\u001B[0;32m     35\u001B[0m \u001B[38;5;28;01mdef\u001B[39;00m \u001B[38;5;21mwrapper\u001B[39m(\u001B[38;5;241m*\u001B[39margs: P\u001B[38;5;241m.\u001B[39margs, \u001B[38;5;241m*\u001B[39m\u001B[38;5;241m*\u001B[39mkwargs: P\u001B[38;5;241m.\u001B[39mkwargs) \u001B[38;5;241m-\u001B[39m\u001B[38;5;241m>\u001B[39m T:\n\u001B[0;32m     36\u001B[0m     _rename_kwargs(function\u001B[38;5;241m.\u001B[39m\u001B[38;5;18m__name__\u001B[39m, kwargs, aliases)\n\u001B[1;32m---> 37\u001B[0m     \u001B[38;5;28;01mreturn\u001B[39;00m function(\u001B[38;5;241m*\u001B[39margs, \u001B[38;5;241m*\u001B[39m\u001B[38;5;241m*\u001B[39mkwargs)\n",
      "File \u001B[1;32m~\\miniconda\\envs\\yaib\\lib\\site-packages\\polars\\functions\\range.py:362\u001B[0m, in \u001B[0;36mdate_range\u001B[1;34m(start, end, interval, closed, time_unit, time_zone, eager, name)\u001B[0m\n\u001B[0;32m    360\u001B[0m \u001B[38;5;28;01mif\u001B[39;00m \u001B[38;5;28misinstance\u001B[39m(interval, timedelta):\n\u001B[0;32m    361\u001B[0m     interval \u001B[38;5;241m=\u001B[39m _timedelta_to_pl_duration(interval)\n\u001B[1;32m--> 362\u001B[0m \u001B[38;5;28;01melif\u001B[39;00m \u001B[38;5;124;43m\"\u001B[39;49m\u001B[38;5;124;43m \u001B[39;49m\u001B[38;5;124;43m\"\u001B[39;49m\u001B[43m \u001B[49m\u001B[38;5;129;43;01min\u001B[39;49;00m\u001B[43m \u001B[49m\u001B[43minterval\u001B[49m:\n\u001B[0;32m    363\u001B[0m     interval \u001B[38;5;241m=\u001B[39m interval\u001B[38;5;241m.\u001B[39mreplace(\u001B[38;5;124m\"\u001B[39m\u001B[38;5;124m \u001B[39m\u001B[38;5;124m\"\u001B[39m, \u001B[38;5;124m\"\u001B[39m\u001B[38;5;124m\"\u001B[39m)\n\u001B[0;32m    365\u001B[0m \u001B[38;5;28;01mif\u001B[39;00m (\n\u001B[0;32m    366\u001B[0m     \u001B[38;5;129;01mnot\u001B[39;00m eager\n\u001B[0;32m    367\u001B[0m     \u001B[38;5;129;01mor\u001B[39;00m \u001B[38;5;28misinstance\u001B[39m(start, (\u001B[38;5;28mstr\u001B[39m, pl\u001B[38;5;241m.\u001B[39mExpr))\n\u001B[0;32m    368\u001B[0m     \u001B[38;5;129;01mor\u001B[39;00m \u001B[38;5;28misinstance\u001B[39m(end, (\u001B[38;5;28mstr\u001B[39m, pl\u001B[38;5;241m.\u001B[39mExpr))\n\u001B[0;32m    369\u001B[0m ):\n",
      "\u001B[1;31mTypeError\u001B[0m: argument of type 'Expr' is not iterable"
     ]
    }
   ],
   "source": [
    "pl.date_range(pl.time(0), pl.time(6), interval=pl.duration(hours=1))"
   ],
   "metadata": {
    "collapsed": false
   }
  },
  {
   "cell_type": "code",
   "execution_count": 139,
   "outputs": [
    {
     "data": {
      "text/plain": "shape: (10, 7)\n┌─────┬──────────┬───────────┬───────────┬─────┬─────┬─────┐\n│ id  ┆ time     ┆ y         ┆ x1        ┆ x2  ┆ x3  ┆ x4  │\n│ --- ┆ ---      ┆ ---       ┆ ---       ┆ --- ┆ --- ┆ --- │\n│ i64 ┆ time     ┆ f64       ┆ f64       ┆ i32 ┆ cat ┆ cat │\n╞═════╪══════════╪═══════════╪═══════════╪═════╪═════╪═════╡\n│ 1   ┆ 00:00:00 ┆ 1.031     ┆ 14.062629 ┆ 0   ┆ a   ┆ x   │\n│ 1   ┆ 01:00:00 ┆ 0.93128   ┆ 16.7812   ┆ 0   ┆ b   ┆ y   │\n│ 1   ┆ 02:00:00 ┆ -0.839218 ┆ 9.639949  ┆ 0   ┆ c   ┆ y   │\n│ 1   ┆ 03:00:00 ┆ -0.309212 ┆ 15.017664 ┆ 0   ┆ a   ┆ x   │\n│ …   ┆ …        ┆ …         ┆ …         ┆ …   ┆ …   ┆ …   │\n│ 2   ┆ 00:00:00 ┆ -0.479174 ┆ 11.806978 ┆ 0   ┆ c   ┆ x   │\n│ 2   ┆ 01:00:00 ┆ -0.185659 ┆ 17.690183 ┆ 0   ┆ a   ┆ x   │\n│ 2   ┆ 02:00:00 ┆ -1.106335 ┆ 9.82087   ┆ 1   ┆ b   ┆ y   │\n│ 2   ┆ 03:00:00 ┆ -1.196207 ┆ 17.823218 ┆ 0   ┆ c   ┆ x   │\n└─────┴──────────┴───────────┴───────────┴─────┴─────┴─────┘",
      "text/html": "<div><style>\n.dataframe > thead > tr > th,\n.dataframe > tbody > tr > td {\n  text-align: right;\n}\n</style>\n<small>shape: (10, 7)</small><table border=\"1\" class=\"dataframe\"><thead><tr><th>id</th><th>time</th><th>y</th><th>x1</th><th>x2</th><th>x3</th><th>x4</th></tr><tr><td>i64</td><td>time</td><td>f64</td><td>f64</td><td>i32</td><td>cat</td><td>cat</td></tr></thead><tbody><tr><td>1</td><td>00:00:00</td><td>1.031</td><td>14.062629</td><td>0</td><td>&quot;a&quot;</td><td>&quot;x&quot;</td></tr><tr><td>1</td><td>01:00:00</td><td>0.93128</td><td>16.7812</td><td>0</td><td>&quot;b&quot;</td><td>&quot;y&quot;</td></tr><tr><td>1</td><td>02:00:00</td><td>-0.839218</td><td>9.639949</td><td>0</td><td>&quot;c&quot;</td><td>&quot;y&quot;</td></tr><tr><td>1</td><td>03:00:00</td><td>-0.309212</td><td>15.017664</td><td>0</td><td>&quot;a&quot;</td><td>&quot;x&quot;</td></tr><tr><td>1</td><td>04:00:00</td><td>0.331263</td><td>11.80818</td><td>0</td><td>&quot;c&quot;</td><td>&quot;y&quot;</td></tr><tr><td>1</td><td>05:00:00</td><td>0.975545</td><td>6.774401</td><td>0</td><td>&quot;b&quot;</td><td>&quot;y&quot;</td></tr><tr><td>2</td><td>00:00:00</td><td>-0.479174</td><td>11.806978</td><td>0</td><td>&quot;c&quot;</td><td>&quot;x&quot;</td></tr><tr><td>2</td><td>01:00:00</td><td>-0.185659</td><td>17.690183</td><td>0</td><td>&quot;a&quot;</td><td>&quot;x&quot;</td></tr><tr><td>2</td><td>02:00:00</td><td>-1.106335</td><td>9.82087</td><td>1</td><td>&quot;b&quot;</td><td>&quot;y&quot;</td></tr><tr><td>2</td><td>03:00:00</td><td>-1.196207</td><td>17.823218</td><td>0</td><td>&quot;c&quot;</td><td>&quot;x&quot;</td></tr></tbody></table></div>"
     },
     "execution_count": 139,
     "metadata": {},
     "output_type": "execute_result"
    }
   ],
   "source": [
    "timecolumn = pl.concat([pl.time_range(time(0, 0, 0), time(5, 0, 0), \"1h\", eager=True),\n",
    "      pl.time_range(time(0, 0, 0), time(3, 0, 0), \"1h\", eager=True)])\n",
    "df = pl.DataFrame(\n",
    "{\n",
    "    \"id\": [1] * 6 + [2] * 4,\n",
    "    \"time\": timecolumn,\n",
    "    \"y\": rand_state.normal(size=(10,)),\n",
    "    \"x1\": rand_state.normal(loc=10, scale=5, size=(10,)),\n",
    "    \"x2\": rand_state.binomial(n=1, p=0.3, size=(10,)),\n",
    "    \"x3\": pl.Series([\"a\", \"b\", \"c\", \"a\", \"c\", \"b\", \"c\", \"a\", \"b\", \"c\"],dtype=pl.Categorical),\n",
    "    \"x4\": pl.Series([\"x\", \"y\", \"y\", \"x\", \"y\", \"y\", \"x\", \"x\", \"y\", \"x\"],dtype=pl.Categorical),\n",
    "}\n",
    ")\n",
    "df"
   ],
   "metadata": {
    "collapsed": false
   }
  },
  {
   "cell_type": "code",
   "execution_count": null,
   "outputs": [],
   "source": [],
   "metadata": {
    "collapsed": false
   }
  }
 ],
 "metadata": {
  "kernelspec": {
   "display_name": "Python 3",
   "language": "python",
   "name": "python3"
  },
  "language_info": {
   "codemirror_mode": {
    "name": "ipython",
    "version": 2
   },
   "file_extension": ".py",
   "mimetype": "text/x-python",
   "name": "python",
   "nbconvert_exporter": "python",
   "pygments_lexer": "ipython2",
   "version": "2.7.6"
  }
 },
 "nbformat": 4,
 "nbformat_minor": 0
}
