{
 "cells": [
  {
   "cell_type": "code",
   "execution_count": 17,
   "metadata": {
    "collapsed": true
   },
   "outputs": [
    {
     "name": "stdout",
     "output_type": "stream",
     "text": [
      "0.duration([0, 0, 0, 0, 0, 1, 0]).alias(\"duration\")\n"
     ]
    }
   ],
   "source": [
    "import polars as pl\n",
    "import numpy as np\n",
    "from datetime import timedelta\n",
    "rand_state = np.random.RandomState(42)\n",
    "interval = timedelta(hours=1)\n"
   ]
  },
  {
   "cell_type": "code",
   "execution_count": 28,
   "outputs": [
    {
     "data": {
      "text/plain": "array([0, 1, 2, 3, 4, 5])"
     },
     "execution_count": 28,
     "metadata": {},
     "output_type": "execute_result"
    }
   ],
   "source": [
    "np.arange(0,6)"
   ],
   "metadata": {
    "collapsed": false
   }
  },
  {
   "cell_type": "code",
   "execution_count": null,
   "outputs": [],
   "source": [],
   "metadata": {
    "collapsed": false
   }
  },
  {
   "cell_type": "code",
   "execution_count": 26,
   "outputs": [],
   "source": [
    "test = (np.arange(0,6) * interval)"
   ],
   "metadata": {
    "collapsed": false
   }
  },
  {
   "cell_type": "code",
   "execution_count": 27,
   "outputs": [
    {
     "name": "stdout",
     "output_type": "stream",
     "text": [
      "0.duration([0, 0, 0, 0, 0, 1, 0]).alias(\"duration\").python_udf()\n"
     ]
    }
   ],
   "source": [
    "print(test)"
   ],
   "metadata": {
    "collapsed": false
   }
  },
  {
   "cell_type": "code",
   "execution_count": 18,
   "outputs": [
    {
     "ename": "ValueError",
     "evalue": "zero-dimensional arrays cannot be concatenated",
     "output_type": "error",
     "traceback": [
      "\u001B[1;31m---------------------------------------------------------------------------\u001B[0m",
      "\u001B[1;31mValueError\u001B[0m                                Traceback (most recent call last)",
      "Cell \u001B[1;32mIn[18], line 1\u001B[0m\n\u001B[1;32m----> 1\u001B[0m \u001B[43mnp\u001B[49m\u001B[38;5;241;43m.\u001B[39;49m\u001B[43mconcatenate\u001B[49m\u001B[43m(\u001B[49m\u001B[43m[\u001B[49m\u001B[43m(\u001B[49m\u001B[43mnp\u001B[49m\u001B[38;5;241;43m.\u001B[39;49m\u001B[43marange\u001B[49m\u001B[43m(\u001B[49m\u001B[38;5;241;43m0\u001B[39;49m\u001B[43m,\u001B[49m\u001B[38;5;241;43m6\u001B[39;49m\u001B[43m)\u001B[49m\u001B[43m \u001B[49m\u001B[38;5;241;43m*\u001B[39;49m\u001B[43m \u001B[49m\u001B[43minterval\u001B[49m\u001B[43m)\u001B[49m\u001B[43m,\u001B[49m\u001B[43m \u001B[49m\u001B[43m(\u001B[49m\u001B[43mnp\u001B[49m\u001B[38;5;241;43m.\u001B[39;49m\u001B[43marange\u001B[49m\u001B[43m(\u001B[49m\u001B[38;5;241;43m0\u001B[39;49m\u001B[43m,\u001B[49m\u001B[38;5;241;43m4\u001B[39;49m\u001B[43m)\u001B[49m\u001B[43m \u001B[49m\u001B[38;5;241;43m*\u001B[39;49m\u001B[43m \u001B[49m\u001B[43minterval\u001B[49m\u001B[43m)\u001B[49m\u001B[43m]\u001B[49m\u001B[43m)\u001B[49m\n",
      "File \u001B[1;32m<__array_function__ internals>:200\u001B[0m, in \u001B[0;36mconcatenate\u001B[1;34m(*args, **kwargs)\u001B[0m\n",
      "\u001B[1;31mValueError\u001B[0m: zero-dimensional arrays cannot be concatenated"
     ]
    }
   ],
   "source": [
    "np.concatenate([(np.arange(0,6) * interval), (np.arange(0,4) * interval)])"
   ],
   "metadata": {
    "collapsed": false
   }
  },
  {
   "cell_type": "code",
   "execution_count": 15,
   "outputs": [
    {
     "ename": "ValueError",
     "evalue": "zero-dimensional arrays cannot be concatenated",
     "output_type": "error",
     "traceback": [
      "\u001B[1;31m---------------------------------------------------------------------------\u001B[0m",
      "\u001B[1;31mValueError\u001B[0m                                Traceback (most recent call last)",
      "Cell \u001B[1;32mIn[15], line 4\u001B[0m\n\u001B[0;32m      1\u001B[0m df \u001B[38;5;241m=\u001B[39m pl\u001B[38;5;241m.\u001B[39mDataFrame(\n\u001B[0;32m      2\u001B[0m         {\n\u001B[0;32m      3\u001B[0m             \u001B[38;5;124m\"\u001B[39m\u001B[38;5;124mid\u001B[39m\u001B[38;5;124m\"\u001B[39m: [\u001B[38;5;241m1\u001B[39m] \u001B[38;5;241m*\u001B[39m \u001B[38;5;241m6\u001B[39m \u001B[38;5;241m+\u001B[39m [\u001B[38;5;241m2\u001B[39m] \u001B[38;5;241m*\u001B[39m \u001B[38;5;241m4\u001B[39m,\n\u001B[1;32m----> 4\u001B[0m             \u001B[38;5;124m\"\u001B[39m\u001B[38;5;124mtime\u001B[39m\u001B[38;5;124m\"\u001B[39m: \u001B[43mnp\u001B[49m\u001B[38;5;241;43m.\u001B[39;49m\u001B[43mconcatenate\u001B[49m\u001B[43m(\u001B[49m\u001B[43m[\u001B[49m\u001B[43m(\u001B[49m\u001B[43mnp\u001B[49m\u001B[38;5;241;43m.\u001B[39;49m\u001B[43marange\u001B[49m\u001B[43m(\u001B[49m\u001B[38;5;241;43m0\u001B[39;49m\u001B[43m,\u001B[49m\u001B[38;5;241;43m6\u001B[39;49m\u001B[43m)\u001B[49m\u001B[43m \u001B[49m\u001B[38;5;241;43m*\u001B[39;49m\u001B[43m \u001B[49m\u001B[43minterval\u001B[49m\u001B[43m)\u001B[49m\u001B[43m,\u001B[49m\u001B[43m \u001B[49m\u001B[43m(\u001B[49m\u001B[43mnp\u001B[49m\u001B[38;5;241;43m.\u001B[39;49m\u001B[43marange\u001B[49m\u001B[43m(\u001B[49m\u001B[38;5;241;43m0\u001B[39;49m\u001B[43m,\u001B[49m\u001B[38;5;241;43m4\u001B[39;49m\u001B[43m)\u001B[49m\u001B[43m \u001B[49m\u001B[38;5;241;43m*\u001B[39;49m\u001B[43m \u001B[49m\u001B[43minterval\u001B[49m\u001B[43m)\u001B[49m\u001B[43m]\u001B[49m\u001B[43m)\u001B[49m,\n\u001B[0;32m      5\u001B[0m             \u001B[38;5;66;03m# \"time\": timedelta(hours=range(10)),\u001B[39;00m\n\u001B[0;32m      6\u001B[0m             \u001B[38;5;124m\"\u001B[39m\u001B[38;5;124my\u001B[39m\u001B[38;5;124m\"\u001B[39m: rand_state\u001B[38;5;241m.\u001B[39mnormal(size\u001B[38;5;241m=\u001B[39m(\u001B[38;5;241m10\u001B[39m,)),\n\u001B[0;32m      7\u001B[0m             \u001B[38;5;124m\"\u001B[39m\u001B[38;5;124mx1\u001B[39m\u001B[38;5;124m\"\u001B[39m: rand_state\u001B[38;5;241m.\u001B[39mnormal(loc\u001B[38;5;241m=\u001B[39m\u001B[38;5;241m10\u001B[39m, scale\u001B[38;5;241m=\u001B[39m\u001B[38;5;241m5\u001B[39m, size\u001B[38;5;241m=\u001B[39m(\u001B[38;5;241m10\u001B[39m,)),\n\u001B[0;32m      8\u001B[0m             \u001B[38;5;124m\"\u001B[39m\u001B[38;5;124mx2\u001B[39m\u001B[38;5;124m\"\u001B[39m: rand_state\u001B[38;5;241m.\u001B[39mbinomial(n\u001B[38;5;241m=\u001B[39m\u001B[38;5;241m1\u001B[39m, p\u001B[38;5;241m=\u001B[39m\u001B[38;5;241m0.3\u001B[39m, size\u001B[38;5;241m=\u001B[39m(\u001B[38;5;241m10\u001B[39m,)),\n\u001B[0;32m      9\u001B[0m             \u001B[38;5;124m\"\u001B[39m\u001B[38;5;124mx3\u001B[39m\u001B[38;5;124m\"\u001B[39m: pl\u001B[38;5;241m.\u001B[39mSeries([\u001B[38;5;124m\"\u001B[39m\u001B[38;5;124ma\u001B[39m\u001B[38;5;124m\"\u001B[39m, \u001B[38;5;124m\"\u001B[39m\u001B[38;5;124mb\u001B[39m\u001B[38;5;124m\"\u001B[39m, \u001B[38;5;124m\"\u001B[39m\u001B[38;5;124mc\u001B[39m\u001B[38;5;124m\"\u001B[39m, \u001B[38;5;124m\"\u001B[39m\u001B[38;5;124ma\u001B[39m\u001B[38;5;124m\"\u001B[39m, \u001B[38;5;124m\"\u001B[39m\u001B[38;5;124mc\u001B[39m\u001B[38;5;124m\"\u001B[39m, \u001B[38;5;124m\"\u001B[39m\u001B[38;5;124mb\u001B[39m\u001B[38;5;124m\"\u001B[39m, \u001B[38;5;124m\"\u001B[39m\u001B[38;5;124mc\u001B[39m\u001B[38;5;124m\"\u001B[39m, \u001B[38;5;124m\"\u001B[39m\u001B[38;5;124ma\u001B[39m\u001B[38;5;124m\"\u001B[39m, \u001B[38;5;124m\"\u001B[39m\u001B[38;5;124mb\u001B[39m\u001B[38;5;124m\"\u001B[39m, \u001B[38;5;124m\"\u001B[39m\u001B[38;5;124mc\u001B[39m\u001B[38;5;124m\"\u001B[39m]),\n\u001B[0;32m     10\u001B[0m             \u001B[38;5;124m\"\u001B[39m\u001B[38;5;124mx4\u001B[39m\u001B[38;5;124m\"\u001B[39m: pl\u001B[38;5;241m.\u001B[39mSeries([\u001B[38;5;124m\"\u001B[39m\u001B[38;5;124mx\u001B[39m\u001B[38;5;124m\"\u001B[39m, \u001B[38;5;124m\"\u001B[39m\u001B[38;5;124my\u001B[39m\u001B[38;5;124m\"\u001B[39m, \u001B[38;5;124m\"\u001B[39m\u001B[38;5;124my\u001B[39m\u001B[38;5;124m\"\u001B[39m, \u001B[38;5;124m\"\u001B[39m\u001B[38;5;124mx\u001B[39m\u001B[38;5;124m\"\u001B[39m, \u001B[38;5;124m\"\u001B[39m\u001B[38;5;124my\u001B[39m\u001B[38;5;124m\"\u001B[39m, \u001B[38;5;124m\"\u001B[39m\u001B[38;5;124my\u001B[39m\u001B[38;5;124m\"\u001B[39m, \u001B[38;5;124m\"\u001B[39m\u001B[38;5;124mx\u001B[39m\u001B[38;5;124m\"\u001B[39m, \u001B[38;5;124m\"\u001B[39m\u001B[38;5;124mx\u001B[39m\u001B[38;5;124m\"\u001B[39m, \u001B[38;5;124m\"\u001B[39m\u001B[38;5;124my\u001B[39m\u001B[38;5;124m\"\u001B[39m, \u001B[38;5;124m\"\u001B[39m\u001B[38;5;124mx\u001B[39m\u001B[38;5;124m\"\u001B[39m]), \u001B[38;5;66;03m#, dtype=\"category\"\u001B[39;00m\n\u001B[0;32m     11\u001B[0m         }\n\u001B[0;32m     12\u001B[0m     )\n",
      "File \u001B[1;32m<__array_function__ internals>:200\u001B[0m, in \u001B[0;36mconcatenate\u001B[1;34m(*args, **kwargs)\u001B[0m\n",
      "\u001B[1;31mValueError\u001B[0m: zero-dimensional arrays cannot be concatenated"
     ]
    }
   ],
   "source": [
    "df = pl.DataFrame(\n",
    "        {\n",
    "            \"id\": [1] * 6 + [2] * 4,\n",
    "            \"time\": pernl.sp.concatenate([(np.arange(0,6) * interval), (np.arange(0,4) * interval)]),\n",
    "            # \"time\": timedelta(hours=range(10)),\n",
    "            \"y\": rand_state.normal(size=(10,)),\n",
    "            \"x1\": rand_state.normal(loc=10, scale=5, size=(10,)),\n",
    "            \"x2\": rand_state.binomial(n=1, p=0.3, size=(10,)),\n",
    "            \"x3\": pl.Series([\"a\", \"b\", \"c\", \"a\", \"c\", \"b\", \"c\", \"a\", \"b\", \"c\"]),\n",
    "            \"x4\": pl.Series([\"x\", \"y\", \"y\", \"x\", \"y\", \"y\", \"x\", \"x\", \"y\", \"x\"]), #, dtype=\"category\"\n",
    "        }\n",
    "    )"
   ],
   "metadata": {
    "collapsed": false
   }
  },
  {
   "cell_type": "code",
   "execution_count": 12,
   "outputs": [
    {
     "name": "stdout",
     "output_type": "stream",
     "text": [
      "shape: (10, 7)\n",
      "┌─────┬─────────┬───────────┬───────────┬─────┬─────┬─────┐\n",
      "│ id  ┆ time    ┆ y         ┆ x1        ┆ x2  ┆ x3  ┆ x4  │\n",
      "│ --- ┆ ---     ┆ ---       ┆ ---       ┆ --- ┆ --- ┆ --- │\n",
      "│ i64 ┆ object  ┆ f64       ┆ f64       ┆ i32 ┆ str ┆ str │\n",
      "╞═════╪═════════╪═══════════╪═══════════╪═════╪═════╪═════╡\n",
      "│ 1   ┆ 0:00:00 ┆ 0.496714  ┆ 7.682912  ┆ 0   ┆ a   ┆ x   │\n",
      "│ 1   ┆ 1:00:00 ┆ -0.138264 ┆ 7.671351  ┆ 1   ┆ b   ┆ y   │\n",
      "│ 1   ┆ 2:00:00 ┆ 0.647689  ┆ 11.209811 ┆ 0   ┆ c   ┆ y   │\n",
      "│ 1   ┆ 3:00:00 ┆ 1.52303   ┆ 0.433599  ┆ 0   ┆ a   ┆ x   │\n",
      "│ …   ┆ …       ┆ …         ┆ …         ┆ …   ┆ …   ┆ …   │\n",
      "│ 2   ┆ 0:00:00 ┆ 1.579213  ┆ 4.935844  ┆ 0   ┆ c   ┆ x   │\n",
      "│ 2   ┆ 1:00:00 ┆ 0.767435  ┆ 11.571237 ┆ 0   ┆ a   ┆ x   │\n",
      "│ 2   ┆ 2:00:00 ┆ -0.469474 ┆ 5.45988   ┆ 0   ┆ b   ┆ y   │\n",
      "│ 2   ┆ 3:00:00 ┆ 0.54256   ┆ 2.938481  ┆ 1   ┆ c   ┆ x   │\n",
      "└─────┴─────────┴───────────┴───────────┴─────┴─────┴─────┘\n"
     ]
    }
   ],
   "source": [
    "print(df)"
   ],
   "metadata": {
    "collapsed": false
   }
  },
  {
   "cell_type": "code",
   "execution_count": 13,
   "outputs": [
    {
     "name": "stdout",
     "output_type": "stream",
     "text": [
      "   id                        time         y         x1  x2 x3 x4\n",
      "0   1  b'\\xb0z~\\xe7B\\x02\\x00\\x00'  0.496714   7.682912   0  a  x\n",
      "1   1  b'\\xc0m~\\xe7B\\x02\\x00\\x00' -0.138264   7.671351   1  b  y\n",
      "2   1  b'\\x10i~\\xe7B\\x02\\x00\\x00'  0.647689  11.209811   0  c  y\n",
      "3   1  b'\\x10u~\\xe7B\\x02\\x00\\x00'  1.523030   0.433599   0  a  x\n",
      "4   1     b' b~\\xe7B\\x02\\x00\\x00' -0.234153   1.375411   0  c  y\n",
      "5   1  b'\\xa0o~\\xe7B\\x02\\x00\\x00' -0.234137   7.188562   0  b  y\n",
      "6   2  b'\\xd0`~\\xe7B\\x02\\x00\\x00'  1.579213   4.935844   0  c  x\n",
      "7   2  b'\\x80_~\\xe7B\\x02\\x00\\x00'  0.767435  11.571237   0  a  x\n",
      "8   2     b'po~\\xe7B\\x02\\x00\\x00' -0.469474   5.459880   0  b  y\n",
      "9   2  b'\\xe0z~\\xe7B\\x02\\x00\\x00'  0.542560   2.938481   1  c  x\n"
     ]
    }
   ],
   "source": [
    "print(df.to_pandas())"
   ],
   "metadata": {
    "collapsed": false
   }
  },
  {
   "cell_type": "code",
   "execution_count": 22,
   "outputs": [],
   "source": [
    "timerange = pl.time_range(0, 6)"
   ],
   "metadata": {
    "collapsed": false
   }
  },
  {
   "cell_type": "code",
   "execution_count": 24,
   "outputs": [
    {
     "name": "stdout",
     "output_type": "stream",
     "text": [
      "0.time_range([6])\n"
     ]
    }
   ],
   "source": [
    "print(timerange)"
   ],
   "metadata": {
    "collapsed": false
   }
  },
  {
   "cell_type": "code",
   "execution_count": null,
   "outputs": [],
   "source": [],
   "metadata": {
    "collapsed": false
   }
  }
 ],
 "metadata": {
  "kernelspec": {
   "display_name": "Python 3",
   "language": "python",
   "name": "python3"
  },
  "language_info": {
   "codemirror_mode": {
    "name": "ipython",
    "version": 2
   },
   "file_extension": ".py",
   "mimetype": "text/x-python",
   "name": "python",
   "nbconvert_exporter": "python",
   "pygments_lexer": "ipython2",
   "version": "2.7.6"
  }
 },
 "nbformat": 4,
 "nbformat_minor": 0
}
