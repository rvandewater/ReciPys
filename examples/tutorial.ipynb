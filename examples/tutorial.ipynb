{
 "cells": [
  {
   "metadata": {},
   "cell_type": "markdown",
   "source": "# ReciPys Tutorial",
   "id": "3267852701fb9b12"
  },
  {
   "metadata": {},
   "cell_type": "markdown",
   "source": "## Imports",
   "id": "a5b43c00d911cf35"
  },
  {
   "metadata": {
    "ExecuteTime": {
     "end_time": "2024-07-09T14:05:49.778680Z",
     "start_time": "2024-07-09T14:05:42.880057Z"
    }
   },
   "cell_type": "code",
   "source": [
    "import pytest\n",
    "import numpy as np\n",
    "import polars as pl\n",
    "from recipys.recipe import Recipe\n",
    "from recipys.ingredients import Ingredients\n",
    "from datetime import datetime, MINYEAR\n",
    "import pandas as pd"
   ],
   "id": "f6c8ec71d7eae73",
   "outputs": [],
   "execution_count": 1
  },
  {
   "metadata": {},
   "cell_type": "markdown",
   "source": [
    "## Creating our data as Polars DataFrame\n",
    "We will create a simple dataset to demonstrate the functionality of ReciPys. We have different datatypes, and a temporal aspect to our data. We also add some missing values to our data as this common."
   ],
   "id": "85aa2931591758b3"
  },
  {
   "metadata": {
    "ExecuteTime": {
     "end_time": "2024-07-09T14:10:34.950685Z",
     "start_time": "2024-07-09T14:10:34.942600Z"
    }
   },
   "cell_type": "code",
   "source": [
    "rand_state = np.random.RandomState(42)\n",
    "timecolumn = pl.concat([pl.datetime_range(datetime(MINYEAR, 1, 1,0), datetime(MINYEAR, 1, 1,5), \"1h\", eager=True),\n",
    "              pl.datetime_range(datetime(MINYEAR, 1, 1,0), datetime(MINYEAR, 1, 1,3), \"1h\", eager=True)])\n",
    "df = pl.DataFrame(\n",
    "{\n",
    "    \"id\": [1] * 6 + [2] * 4,\n",
    "    \"time\": timecolumn,\n",
    "    \"y\": rand_state.normal(size=(10,)),\n",
    "    \"x1\": rand_state.normal(loc=10, scale=5, size=(10,)),\n",
    "    \"x2\": rand_state.binomial(n=1, p=0.3, size=(10,)),\n",
    "    \"x3\": pl.Series([\"a\", \"b\", \"c\", \"a\", \"c\", \"b\", \"c\", \"a\", \"b\", \"c\"],dtype=pl.Categorical),\n",
    "    \"x4\": pl.Series([\"x\", \"y\", \"y\", \"x\", \"y\", \"y\", \"x\", \"x\", \"y\", \"x\"],dtype=pl.Categorical),\n",
    "}\n",
    ")\n",
    "df[[1, 2, 4, 7], \"x1\"] = np.nan"
   ],
   "id": "c0e53e6851c885be",
   "outputs": [],
   "execution_count": 16
  },
  {
   "metadata": {
    "ExecuteTime": {
     "end_time": "2024-07-09T14:10:35.461695Z",
     "start_time": "2024-07-09T14:10:35.454577Z"
    }
   },
   "cell_type": "code",
   "source": "df",
   "id": "3a008bd48a39014d",
   "outputs": [
    {
     "data": {
      "text/plain": [
       "shape: (10, 7)\n",
       "┌─────┬─────────────────────┬───────────┬──────────┬─────┬─────┬─────┐\n",
       "│ id  ┆ time                ┆ y         ┆ x1       ┆ x2  ┆ x3  ┆ x4  │\n",
       "│ --- ┆ ---                 ┆ ---       ┆ ---      ┆ --- ┆ --- ┆ --- │\n",
       "│ i64 ┆ datetime[μs]        ┆ f64       ┆ f64      ┆ i32 ┆ cat ┆ cat │\n",
       "╞═════╪═════════════════════╪═══════════╪══════════╪═════╪═════╪═════╡\n",
       "│ 1   ┆ 0001-01-01 00:00:00 ┆ 0.496714  ┆ 7.682912 ┆ 0   ┆ a   ┆ x   │\n",
       "│ 1   ┆ 0001-01-01 01:00:00 ┆ -0.138264 ┆ NaN      ┆ 1   ┆ b   ┆ y   │\n",
       "│ 1   ┆ 0001-01-01 02:00:00 ┆ 0.647689  ┆ NaN      ┆ 0   ┆ c   ┆ y   │\n",
       "│ 1   ┆ 0001-01-01 03:00:00 ┆ 1.52303   ┆ 0.433599 ┆ 0   ┆ a   ┆ x   │\n",
       "│ 1   ┆ 0001-01-01 04:00:00 ┆ -0.234153 ┆ NaN      ┆ 0   ┆ c   ┆ y   │\n",
       "│ 1   ┆ 0001-01-01 05:00:00 ┆ -0.234137 ┆ 7.188562 ┆ 0   ┆ b   ┆ y   │\n",
       "│ 2   ┆ 0001-01-01 00:00:00 ┆ 1.579213  ┆ 4.935844 ┆ 0   ┆ c   ┆ x   │\n",
       "│ 2   ┆ 0001-01-01 01:00:00 ┆ 0.767435  ┆ NaN      ┆ 0   ┆ a   ┆ x   │\n",
       "│ 2   ┆ 0001-01-01 02:00:00 ┆ -0.469474 ┆ 5.45988  ┆ 0   ┆ b   ┆ y   │\n",
       "│ 2   ┆ 0001-01-01 03:00:00 ┆ 0.54256   ┆ 2.938481 ┆ 1   ┆ c   ┆ x   │\n",
       "└─────┴─────────────────────┴───────────┴──────────┴─────┴─────┴─────┘"
      ],
      "text/html": [
       "<div><style>\n",
       ".dataframe > thead > tr,\n",
       ".dataframe > tbody > tr {\n",
       "  text-align: right;\n",
       "  white-space: pre-wrap;\n",
       "}\n",
       "</style>\n",
       "<small>shape: (10, 7)</small><table border=\"1\" class=\"dataframe\"><thead><tr><th>id</th><th>time</th><th>y</th><th>x1</th><th>x2</th><th>x3</th><th>x4</th></tr><tr><td>i64</td><td>datetime[μs]</td><td>f64</td><td>f64</td><td>i32</td><td>cat</td><td>cat</td></tr></thead><tbody><tr><td>1</td><td>0001-01-01 00:00:00</td><td>0.496714</td><td>7.682912</td><td>0</td><td>&quot;a&quot;</td><td>&quot;x&quot;</td></tr><tr><td>1</td><td>0001-01-01 01:00:00</td><td>-0.138264</td><td>NaN</td><td>1</td><td>&quot;b&quot;</td><td>&quot;y&quot;</td></tr><tr><td>1</td><td>0001-01-01 02:00:00</td><td>0.647689</td><td>NaN</td><td>0</td><td>&quot;c&quot;</td><td>&quot;y&quot;</td></tr><tr><td>1</td><td>0001-01-01 03:00:00</td><td>1.52303</td><td>0.433599</td><td>0</td><td>&quot;a&quot;</td><td>&quot;x&quot;</td></tr><tr><td>1</td><td>0001-01-01 04:00:00</td><td>-0.234153</td><td>NaN</td><td>0</td><td>&quot;c&quot;</td><td>&quot;y&quot;</td></tr><tr><td>1</td><td>0001-01-01 05:00:00</td><td>-0.234137</td><td>7.188562</td><td>0</td><td>&quot;b&quot;</td><td>&quot;y&quot;</td></tr><tr><td>2</td><td>0001-01-01 00:00:00</td><td>1.579213</td><td>4.935844</td><td>0</td><td>&quot;c&quot;</td><td>&quot;x&quot;</td></tr><tr><td>2</td><td>0001-01-01 01:00:00</td><td>0.767435</td><td>NaN</td><td>0</td><td>&quot;a&quot;</td><td>&quot;x&quot;</td></tr><tr><td>2</td><td>0001-01-01 02:00:00</td><td>-0.469474</td><td>5.45988</td><td>0</td><td>&quot;b&quot;</td><td>&quot;y&quot;</td></tr><tr><td>2</td><td>0001-01-01 03:00:00</td><td>0.54256</td><td>2.938481</td><td>1</td><td>&quot;c&quot;</td><td>&quot;x&quot;</td></tr></tbody></table></div>"
      ]
     },
     "execution_count": 17,
     "metadata": {},
     "output_type": "execute_result"
    }
   ],
   "execution_count": 17
  },
  {
   "metadata": {},
   "cell_type": "markdown",
   "source": [
    "## Creating Ingredients\n",
    "To get started, we need to create an ingredients object. This object will be used to create a recipe."
   ],
   "id": "9f5f338e32925f7d"
  },
  {
   "metadata": {
    "ExecuteTime": {
     "end_time": "2024-07-09T14:10:38.359734Z",
     "start_time": "2024-07-09T14:10:38.345699Z"
    }
   },
   "cell_type": "code",
   "source": "ing = Ingredients(df)",
   "id": "445d2c3d24e72a43",
   "outputs": [],
   "execution_count": 18
  },
  {
   "metadata": {},
   "cell_type": "markdown",
   "source": "This ingredients object should contain the roles of the columns. The roles are used to determine how we can process the data. For example, the column \"y\" can be defined as an outcome column, which we can use later to define what we want to do with this type of columns:",
   "id": "629ab499d612ea14"
  },
  {
   "metadata": {
    "ExecuteTime": {
     "end_time": "2024-07-09T14:10:40.819911Z",
     "start_time": "2024-07-09T14:10:40.810389Z"
    }
   },
   "cell_type": "code",
   "source": [
    "roles = {\"y\": [\"outcome\"]}\n",
    "ing = Ingredients(df, copy=False, roles=roles)"
   ],
   "id": "12201717ef209ebf",
   "outputs": [],
   "execution_count": 19
  },
  {
   "metadata": {
    "ExecuteTime": {
     "end_time": "2024-07-09T14:05:49.904458Z",
     "start_time": "2024-07-09T14:05:49.890924Z"
    }
   },
   "cell_type": "code",
   "source": "",
   "id": "d0c30fa2cc26d014",
   "outputs": [],
   "execution_count": 6
  },
  {
   "metadata": {},
   "cell_type": "markdown",
   "source": [
    "## Creating a recipe\n",
    "We can also directly create a recipy and specify the roles as arguments to the instantion. A recipy always needs to have an ingredients object and optionally also the target column, the feature columns, the group columns and the sequential or time column."
   ],
   "id": "7bd31c929bca1f96"
  },
  {
   "metadata": {
    "ExecuteTime": {
     "end_time": "2024-07-09T14:10:43.369781Z",
     "start_time": "2024-07-09T14:10:43.363257Z"
    }
   },
   "cell_type": "code",
   "source": [
    "ing = Ingredients(df)\n",
    "rec = Recipe(ing, outcomes=[\"y\"], predictors=[\"x1\", \"x2\", \"x3\", \"x4\"], groups=[\"id\"], sequences=[\"time\"])"
   ],
   "id": "b8e7bb611270a693",
   "outputs": [],
   "execution_count": 20
  },
  {
   "metadata": {
    "ExecuteTime": {
     "end_time": "2024-07-09T14:10:44.023663Z",
     "start_time": "2024-07-09T14:10:44.013152Z"
    }
   },
   "cell_type": "code",
   "source": "rec",
   "id": "a5a3b6981571c671",
   "outputs": [
    {
     "data": {
      "text/plain": [
       "Recipe\n",
       "\n",
       "Inputs:\n",
       "\n",
       "shape: (4, 2)\n",
       "┌───────────┬────────────┐\n",
       "│ role      ┆ #variables │\n",
       "│ ---       ┆ ---        │\n",
       "│ str       ┆ i64        │\n",
       "╞═══════════╪════════════╡\n",
       "│ outcome   ┆ 1          │\n",
       "│ predictor ┆ 4          │\n",
       "│ group     ┆ 1          │\n",
       "│ sequence  ┆ 1          │\n",
       "└───────────┴────────────┘\n",
       "\n",
       "Operations:\n"
      ]
     },
     "execution_count": 21,
     "metadata": {},
     "output_type": "execute_result"
    }
   ],
   "execution_count": 21
  },
  {
   "metadata": {},
   "cell_type": "markdown",
   "source": "",
   "id": "8f687a9f0cba0e9a"
  },
  {
   "metadata": {},
   "cell_type": "markdown",
   "source": "We see that the operations are not yet defined. We have to add steps to our recipe to define what we want to do with the data. But, first, we want to be able to select which columns we want to prepare in our recipe. \n",
   "id": "b5f0764404374a58"
  },
  {
   "metadata": {},
   "cell_type": "markdown",
   "source": "## Selectors",
   "id": "e7a6dad22ab4ad15"
  },
  {
   "metadata": {
    "ExecuteTime": {
     "end_time": "2024-07-09T14:16:18.673558Z",
     "start_time": "2024-07-09T14:16:18.655902Z"
    }
   },
   "cell_type": "code",
   "source": [
    "from recipys.selector import all_numeric_predictors\n",
    "all_numeric_predictors()"
   ],
   "id": "7bf4f0ad24c03353",
   "outputs": [
    {
     "data": {
      "text/plain": [
       "all numeric predictors"
      ]
     },
     "execution_count": 26,
     "metadata": {},
     "output_type": "execute_result"
    }
   ],
   "execution_count": 26
  },
  {
   "metadata": {},
   "cell_type": "code",
   "outputs": [],
   "execution_count": null,
   "source": "",
   "id": "137b16584401cd1"
  },
  {
   "metadata": {},
   "cell_type": "markdown",
   "source": [
    "## Adding steps\n",
    "Let's preprocess our data! First: we know that there is some missing data in our predictors. We can easily add a step to fill in the missing values with the mean of the column."
   ],
   "id": "89b85157eb9a39bd"
  },
  {
   "metadata": {},
   "cell_type": "code",
   "outputs": [],
   "execution_count": null,
   "source": [
    "from recipys.selector import all_numeric_predictors\n",
    "from recipys.step import StepImputeFill\n",
    "\n",
    "rec.add_step(StepImputeFill(sel=all_numeric_predictors(), strategy=\"mean\"))\n"
   ],
   "id": "e5745786925bac65"
  }
 ],
 "metadata": {
  "kernelspec": {
   "display_name": "Python 3",
   "language": "python",
   "name": "python3"
  },
  "language_info": {
   "codemirror_mode": {
    "name": "ipython",
    "version": 2
   },
   "file_extension": ".py",
   "mimetype": "text/x-python",
   "name": "python",
   "nbconvert_exporter": "python",
   "pygments_lexer": "ipython2",
   "version": "2.7.6"
  }
 },
 "nbformat": 4,
 "nbformat_minor": 5
}
